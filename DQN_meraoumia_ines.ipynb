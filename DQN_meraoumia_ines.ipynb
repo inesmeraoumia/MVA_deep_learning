{
 "cells": [
  {
   "cell_type": "markdown",
   "metadata": {
    "colab_type": "text",
    "id": "3xfkcF4y3jZt"
   },
   "source": [
    "**You may need to install [OpenCV](https://pypi.python.org/pypi/opencv-python) and [scikit-video](http://www.scikit-video.org/stable/).**"
   ]
  },
  {
   "cell_type": "code",
   "execution_count": 1,
   "metadata": {
    "colab": {
     "base_uri": "https://localhost:8080/",
     "height": 164
    },
    "colab_type": "code",
    "executionInfo": {
     "elapsed": 5482,
     "status": "ok",
     "timestamp": 1583086362494,
     "user": {
      "displayName": "Ines M",
      "photoUrl": "https://lh3.googleusercontent.com/a-/AOh14GjSaQ3IxuymC3myRFtDUDc_SYgrvYolwsTZ7n5z=s64",
      "userId": "15452657327672251894"
     },
     "user_tz": -60
    },
    "id": "E7_D4kZJ3qbY",
    "outputId": "88fb14e6-972f-42b0-88b1-44c568edc966"
   },
   "outputs": [
    {
     "name": "stdout",
     "output_type": "stream",
     "text": [
      "Collecting scikit-video\n",
      "\u001b[?25l  Downloading https://files.pythonhosted.org/packages/b1/a6/c69cad508139a342810ae46e946ebb3256aa6e42f690d901bb68f50582e3/scikit_video-1.1.11-py2.py3-none-any.whl (2.3MB)\n",
      "\u001b[K     |████████████████████████████████| 2.3MB 4.8MB/s \n",
      "\u001b[?25hRequirement already satisfied: numpy in /usr/local/lib/python3.6/dist-packages (from scikit-video) (1.17.5)\n",
      "Requirement already satisfied: scipy in /usr/local/lib/python3.6/dist-packages (from scikit-video) (1.4.1)\n",
      "Requirement already satisfied: pillow in /usr/local/lib/python3.6/dist-packages (from scikit-video) (6.2.2)\n",
      "Installing collected packages: scikit-video\n",
      "Successfully installed scikit-video-1.1.11\n"
     ]
    }
   ],
   "source": [
    "%pip install scikit-video"
   ]
  },
  {
   "cell_type": "code",
   "execution_count": 2,
   "metadata": {
    "colab": {
     "base_uri": "https://localhost:8080/",
     "height": 83
    },
    "colab_type": "code",
    "executionInfo": {
     "elapsed": 8988,
     "status": "ok",
     "timestamp": 1583086366013,
     "user": {
      "displayName": "Ines M",
      "photoUrl": "https://lh3.googleusercontent.com/a-/AOh14GjSaQ3IxuymC3myRFtDUDc_SYgrvYolwsTZ7n5z=s64",
      "userId": "15452657327672251894"
     },
     "user_tz": -60
    },
    "id": "uRE9BEU-3jZx",
    "outputId": "0c93dafc-c859-4940-9bfc-ca4734af18e8"
   },
   "outputs": [
    {
     "name": "stderr",
     "output_type": "stream",
     "text": [
      "Using TensorFlow backend.\n"
     ]
    },
    {
     "data": {
      "text/html": [
       "<p style=\"color: red;\">\n",
       "The default version of TensorFlow in Colab will soon switch to TensorFlow 2.x.<br>\n",
       "We recommend you <a href=\"https://www.tensorflow.org/guide/migrate\" target=\"_blank\">upgrade</a> now \n",
       "or ensure your notebook will continue to use TensorFlow 1.x via the <code>%tensorflow_version 1.x</code> magic:\n",
       "<a href=\"https://colab.research.google.com/notebooks/tensorflow_version.ipynb\" target=\"_blank\">more info</a>.</p>\n"
      ],
      "text/plain": [
       "<IPython.core.display.HTML object>"
      ]
     },
     "metadata": {
      "tags": []
     },
     "output_type": "display_data"
    }
   ],
   "source": [
    "import keras\n",
    "import numpy as np\n",
    "import io\n",
    "import base64\n",
    "from IPython.display import HTML\n",
    "import skvideo.io\n",
    "import cv2\n",
    "import json\n",
    "\n",
    "from keras.models import Sequential,model_from_json\n",
    "from keras.layers.core import Dense\n",
    "from keras.optimizers import sgd\n",
    "from keras.layers import Conv2D, MaxPooling2D, Activation, AveragePooling2D,Reshape,BatchNormalization, Flatten"
   ]
  },
  {
   "cell_type": "markdown",
   "metadata": {
    "colab_type": "text",
    "id": "k9FS9vvW3jaD"
   },
   "source": [
    "# MiniProject on Deep Reinforcement Learning"
   ]
  },
  {
   "cell_type": "markdown",
   "metadata": {
    "colab_type": "text",
    "id": "BXSfh7Ii3jaF"
   },
   "source": [
    "__Notations__: $E_p$ is the expectation under probability $p$. Please justify each of your answer and widely comment your code."
   ]
  },
  {
   "cell_type": "markdown",
   "metadata": {
    "colab_type": "text",
    "id": "0z1MoR-L3jaI"
   },
   "source": [
    "# Context"
   ]
  },
  {
   "cell_type": "markdown",
   "metadata": {
    "colab_type": "text",
    "id": "0e7iayGe3jaL"
   },
   "source": [
    "In a reinforcement learning algorithm, we modelize each step $t$ as an action $a_t$ obtained from a state $s_t$, i.e. $\\{(a_{t},s_{t})_{t\\leq T}\\}$ having the Markov property. We consider a discount factor $\\gamma \\in [0,1]$ that ensures convergence. The goal is to find among all the policies $\\pi$, one that maximizes the expected reward:\n",
    "\n",
    "\\begin{equation*}\n",
    "R(\\pi)=\\sum_{t\\leq T}E_{p^{\\pi}}[\\gamma^t r(s_{t},a_{t})] \\> ,\n",
    "\\end{equation*}\n",
    "\n",
    "where: \n",
    "\\begin{equation*}p^{\\pi}(a_{0},a_{1},s_{1},...,a_{T},s_{T})=p(a_{0})\\prod_{t=1}^{T}\\pi(a_{t}|s_{t})p(s_{t+1}|s_{t},a_{t}) \\> .\n",
    "\\end{equation*}\n",
    "\n",
    "We note the $Q$-function:\n",
    "\n",
    "\\begin{equation*}Q^\\pi(s,a)=E_{p^{\\pi}}[\\sum_{t\\leq T}\\gamma^{t}r(s_{t},a_{t})|s_{0}=s,a_{0}=a] \\> .\n",
    "\\end{equation*}\n",
    "\n",
    "Thus, the optimal Q function is:\n",
    "\\begin{equation*}\n",
    "Q^*(s,a)=\\max_{\\pi}Q^\\pi(s,a) \\> .\n",
    "\\end{equation*}\n",
    "\n",
    "In this project, we will apply the deep reinforcement learning techniques to a simple game: an agent will have to learn from scratch a policy that will permit it maximizing a reward."
   ]
  },
  {
   "cell_type": "markdown",
   "metadata": {
    "colab_type": "text",
    "id": "1a5oKsdK3jaN"
   },
   "source": [
    "## The environment, the agent and the game"
   ]
  },
  {
   "cell_type": "markdown",
   "metadata": {
    "colab_type": "text",
    "id": "eQcS5wyw3jaP"
   },
   "source": [
    "### The environment"
   ]
  },
  {
   "cell_type": "markdown",
   "metadata": {
    "colab_type": "text",
    "id": "Vgh6ulYY3jaR"
   },
   "source": [
    "```Environment``` is an abstract class that represents the states, rewards, and actions to obtain the new state."
   ]
  },
  {
   "cell_type": "code",
   "execution_count": 0,
   "metadata": {
    "colab": {},
    "colab_type": "code",
    "id": "7rBFRih13jaT"
   },
   "outputs": [],
   "source": [
    "class Environment(object):\n",
    "    def __init__(self):\n",
    "        pass\n",
    "\n",
    "    def act(self, act):\n",
    "        \"\"\"\n",
    "        One can act on the environment and obtain its reaction:\n",
    "        - the new state\n",
    "        - the reward of the new state\n",
    "        - should we continue the game?\n",
    "\n",
    "        :return: state, reward, game_over\n",
    "        \"\"\"\n",
    "        pass\n",
    "\n",
    "\n",
    "    def reset(self):\n",
    "        \"\"\"\n",
    "        Reinitialize the environment to a random state and returns\n",
    "        the original state\n",
    "\n",
    "        :return: state\n",
    "        \"\"\"\n",
    "        pass\n",
    "    \n",
    "    def draw(self):\n",
    "        \"\"\"\n",
    "        Visualize in the console or graphically the current state\n",
    "        \"\"\"\n",
    "        pass"
   ]
  },
  {
   "cell_type": "markdown",
   "metadata": {
    "colab_type": "text",
    "id": "Zkbb7ooJ3jac"
   },
   "source": [
    "The method ```act``` allows to act on the environment at a given state $s_t$ (stored internally), via action $a_t$. The method will return the new state $s_{t+1}$, the reward $r(s_{t},a_{t})$ and determines if $t\\leq T$ (*game_over*).\n",
    "\n",
    "The method ```reset``` simply reinitializes the environment to a random state $s_0$.\n",
    "\n",
    "The method ```draw``` displays the current state $s_t$ (this is useful to check the behavior of the Agent).\n",
    "\n",
    "We modelize $s_t$ as a tensor, while $a_t$ is an integer."
   ]
  },
  {
   "cell_type": "markdown",
   "metadata": {
    "colab_type": "text",
    "id": "8Gut2byN3jaf"
   },
   "source": [
    "### The Agent"
   ]
  },
  {
   "cell_type": "markdown",
   "metadata": {
    "colab_type": "text",
    "id": "S6kP_FrZ3jag"
   },
   "source": [
    "The goal of the ```Agent``` is to interact with the ```Environment``` by proposing actions $a_t$ obtained from a given state $s_t$ to attempt to maximize its __reward__ $r(s_t,a_t)$. We propose the following abstract class:"
   ]
  },
  {
   "cell_type": "code",
   "execution_count": 0,
   "metadata": {
    "colab": {},
    "colab_type": "code",
    "id": "4qfBsHQb3jah"
   },
   "outputs": [],
   "source": [
    "class Agent(object):\n",
    "    def __init__(self, epsilon=0.1, n_action=4):\n",
    "        self.epsilon = epsilon\n",
    "        self.n_action = n_action\n",
    "    \n",
    "    def set_epsilon(self,e):\n",
    "        self.epsilon = e\n",
    "\n",
    "    def act(self,s,train=True):\n",
    "        \"\"\" This function should return the next action to do:\n",
    "        an integer between 0 and 4 (not included) with a random exploration of epsilon\"\"\"\n",
    "        if train:\n",
    "            if np.random.rand() <= self.epsilon:\n",
    "                a = np.random.randint(0, self.n_action, size=1)[0]\n",
    "            else:\n",
    "                a = self.learned_act(s)\n",
    "        else: # in some cases, this can improve the performance.. remove it if poor performances\n",
    "            a = self.learned_act(s)\n",
    "\n",
    "        return a\n",
    "\n",
    "    def learned_act(self,s):\n",
    "        \"\"\" Act via the policy of the agent, from a given state s\n",
    "        it proposes an action a\"\"\"\n",
    "        pass\n",
    "\n",
    "    def reinforce(self, s, n_s, a, r, game_over_):\n",
    "        \"\"\" This function is the core of the learning algorithm. \n",
    "        It takes as an input the current state s_, the next state n_s_\n",
    "        the action a_ used to move from s_ to n_s_ and the reward r_.\n",
    "        \n",
    "        Its goal is to learn a policy.\n",
    "        \"\"\"\n",
    "        pass\n",
    "\n",
    "    def save(self):\n",
    "        \"\"\" This function returns basic stats if applicable: the\n",
    "        loss and/or the model\"\"\"\n",
    "        pass\n",
    "\n",
    "    def load(self):\n",
    "        \"\"\" This function allows to restore a model\"\"\"\n",
    "        pass"
   ]
  },
  {
   "cell_type": "markdown",
   "metadata": {
    "colab_type": "text",
    "id": "7F2vhExx3jam"
   },
   "source": [
    "***\n",
    "__Question 1__:\n",
    "Explain the function act. Why is ```epsilon``` essential?"
   ]
  },
  {
   "cell_type": "markdown",
   "metadata": {
    "colab_type": "text",
    "id": "49MsKSL53jao"
   },
   "source": [
    "The function `act` returns the action we will chose. We are performing $\\epsilon$-greedy policy:\n",
    "\n",
    "We take a random probability $p$ (which is equivalent to taking a random float following a uniform law on $[0, 1]$. If $p > \\epsilon$, we take the action by learning. We take a random action otherwise.\n",
    "\n",
    "\n",
    "$\\epsilon$ is important because it enables a trade-off between exploration and exploitation. This is a famous dilemma in Reinforcement learning. We want to explore as much as possible but, if we do it all the time, we will be penalized because we will do action with bad reward. Exploitation could enable us to take the actions with high reward because we know it. If we are exploiting too much, we can miss action with high reward. Setting $\\epsilon$ properly is important to have a good trade off in order to maximize the value function."
   ]
  },
  {
   "cell_type": "markdown",
   "metadata": {
    "colab_type": "text",
    "id": "wWWcS3rR3jas"
   },
   "source": [
    "***\n",
    "### The Game"
   ]
  },
  {
   "cell_type": "markdown",
   "metadata": {
    "colab_type": "text",
    "id": "Ql9Gh28c3jau"
   },
   "source": [
    "The ```Agent``` and the ```Environment``` work in an interlaced way as in the following (take some time to understand this code as it is the core of the project)\n",
    "\n",
    "```python\n",
    "\n",
    "epoch = 300\n",
    "env = Environment()\n",
    "agent = Agent()\n",
    "\n",
    "\n",
    "# Number of won games\n",
    "score = 0\n",
    "loss = 0\n",
    "\n",
    "\n",
    "for e in range(epoch):\n",
    "    # At each epoch, we restart to a fresh game and get the initial state\n",
    "    state = env.reset()\n",
    "    # This assumes that the games will end\n",
    "    game_over = False\n",
    "\n",
    "    win = 0\n",
    "    lose = 0\n",
    "    \n",
    "    while not game_over:\n",
    "        # The agent performs an action\n",
    "        action = agent.act(state)\n",
    "\n",
    "        # Apply an action to the environment, get the next state, the reward\n",
    "        # and if the games end\n",
    "        prev_state = state\n",
    "        state, reward, game_over = env.act(action)\n",
    "\n",
    "        # Update the counters\n",
    "        if reward > 0:\n",
    "            win = win + reward\n",
    "        if reward < 0:\n",
    "            lose = lose -reward\n",
    "\n",
    "        # Apply the reinforcement strategy\n",
    "        loss = agent.reinforce(prev_state, state,  action, reward, game_over)\n",
    "\n",
    "    # Save as a mp4\n",
    "    if e % 10 == 0:\n",
    "        env.draw(e)\n",
    "\n",
    "    # Update stats\n",
    "    score += win-lose\n",
    "\n",
    "    print(\"Epoch {:03d}/{:03d} | Loss {:.4f} | Win/lose count {}/{} ({})\"\n",
    "          .format(e, epoch, loss, win, lose, win-lose))\n",
    "    agent.save()\n",
    "```"
   ]
  },
  {
   "cell_type": "markdown",
   "metadata": {
    "colab_type": "text",
    "id": "y242ITjk3jav"
   },
   "source": [
    "# The game, *eat cheese*"
   ]
  },
  {
   "cell_type": "markdown",
   "metadata": {
    "colab_type": "text",
    "id": "Pg48JiD_3jaw"
   },
   "source": [
    "A rat runs on an island and tries to eat as much as possible. The island is subdivided into $N\\times N$ cells, in which there are cheese (+0.5) and poisonous cells (-1). The rat has a visibility of 2 cells (thus it can see $5^2$ cells). The rat is given a time $T$ to accumulate as much food as possible. It can perform 4 actions: going up, down, left, right. \n",
    "\n",
    "The goal is to code an agent to solve this task that will learn by trial and error. We propose the following environment:"
   ]
  },
  {
   "cell_type": "code",
   "execution_count": 0,
   "metadata": {
    "colab": {},
    "colab_type": "code",
    "id": "fzpJ4lV33jay"
   },
   "outputs": [],
   "source": [
    "class Environment(object):\n",
    "    def __init__(self, grid_size=10, max_time=500, temperature=0.1):\n",
    "        grid_size = grid_size+4\n",
    "        self.grid_size = grid_size\n",
    "        self.max_time = max_time\n",
    "        self.temperature = temperature\n",
    "\n",
    "        #board on which one plays\n",
    "        self.board = np.zeros((grid_size,grid_size))\n",
    "        self.position = np.zeros((grid_size,grid_size))\n",
    "\n",
    "        # coordinate of the cat\n",
    "        self.x = 0\n",
    "        self.y = 1\n",
    "\n",
    "        # self time\n",
    "        self.t = 0\n",
    "\n",
    "        self.scale=16\n",
    "\n",
    "        self.to_draw = np.zeros((max_time+2, grid_size*self.scale, grid_size*self.scale, 3))\n",
    "\n",
    "\n",
    "    def draw(self,e):\n",
    "        skvideo.io.vwrite(str(e) + '.mp4', self.to_draw)\n",
    "\n",
    "    def get_frame(self,t):\n",
    "        b = np.zeros((self.grid_size,self.grid_size,3))+128\n",
    "        b[self.board>0,0] = 256\n",
    "        b[self.board < 0, 2] = 256\n",
    "        b[self.x,self.y,:]=256\n",
    "        b[-2:,:,:]=0\n",
    "        b[:,-2:,:]=0\n",
    "        b[:2,:,:]=0\n",
    "        b[:,:2,:]=0\n",
    "        \n",
    "        b =  cv2.resize(b, None, fx=self.scale, fy=self.scale, interpolation=cv2.INTER_NEAREST)\n",
    "\n",
    "        self.to_draw[t,:,:,:]=b\n",
    "\n",
    "\n",
    "    def act(self, action):\n",
    "        \"\"\"This function returns the new state, reward and decides if the\n",
    "        game ends.\"\"\"\n",
    "\n",
    "        self.get_frame(int(self.t))\n",
    "\n",
    "        self.position = np.zeros((self.grid_size, self.grid_size))\n",
    "\n",
    "        self.position[0:2,:]= -1\n",
    "        self.position[:,0:2] = -1\n",
    "        self.position[-2:, :] = -1\n",
    "        self.position[-2:, :] = -1 #Deux dernieres colonnes non?\n",
    "\n",
    "        self.position[self.x, self.y] = 1 #The cell is visited\n",
    "        #Actions: up, down, left, right\n",
    "        if action == 0:\n",
    "            if self.x == self.grid_size-3:\n",
    "                self.x = self.x-1 #if can't, go left\n",
    "            else:\n",
    "                self.x = self.x + 1 #go right\n",
    "        elif action == 1: \n",
    "            if self.x == 2:\n",
    "                self.x = self.x+1 #if can't, go right\n",
    "            else:\n",
    "                self.x = self.x-1 #go left\n",
    "        elif action == 2:\n",
    "            if self.y == self.grid_size - 3:\n",
    "                self.y = self.y - 1 #if can't, go up\n",
    "            else:\n",
    "                self.y = self.y + 1 #go down\n",
    "        elif action == 3:\n",
    "            if self.y == 2:\n",
    "                self.y = self.y + 1 #if can't go down\n",
    "            else:\n",
    "                self.y = self.y - 1 #go up\n",
    "        else:\n",
    "            RuntimeError('Error: action not recognized')\n",
    "\n",
    "        self.t = self.t + 1\n",
    "        reward = self.board[self.x, self.y] #board contains the values and the location of cheese and poison\n",
    "        self.board[self.x, self.y] = 0 #Already visited, cheese or poisen eaten\n",
    "        game_over = self.t > self.max_time\n",
    "        state = np.concatenate((self.board.reshape(self.grid_size, self.grid_size,1),\n",
    "                        self.position.reshape(self.grid_size, self.grid_size,1)),axis=2)\n",
    "        state = state[self.x-2:self.x+3,self.y-2:self.y+3,:] #Visible grid for the rat\n",
    "\n",
    "        return state, reward, game_over\n",
    "\n",
    "    def reset(self):\n",
    "        \"\"\"This function resets the game and returns the initial state\"\"\"\n",
    "\n",
    "        self.x = np.random.randint(3, self.grid_size-3, size=1)[0]\n",
    "        self.y = np.random.randint(3, self.grid_size-3, size=1)[0]\n",
    "\n",
    "\n",
    "        bonus = 0.5*np.random.binomial(1,self.temperature,size=self.grid_size**2)\n",
    "        bonus = bonus.reshape(self.grid_size,self.grid_size)\n",
    "\n",
    "        malus = -1.0*np.random.binomial(1,self.temperature,size=self.grid_size**2)\n",
    "        malus = malus.reshape(self.grid_size, self.grid_size)\n",
    "\n",
    "        self.to_draw = np.zeros((self.max_time+2, self.grid_size*self.scale, self.grid_size*self.scale, 3))\n",
    "\n",
    "\n",
    "        malus[bonus>0]=0\n",
    "\n",
    "        self.board = bonus + malus\n",
    "\n",
    "        self.position = np.zeros((self.grid_size, self.grid_size))\n",
    "        self.position[0:2,:]= -1\n",
    "        self.position[:,0:2] = -1\n",
    "        self.position[-2:, :] = -1\n",
    "        self.position[-2:, :] = -1\n",
    "        self.board[self.x,self.y] = 0\n",
    "        self.t = 0\n",
    "\n",
    "        state = np.concatenate((\n",
    "                               self.board.reshape(self.grid_size, self.grid_size,1),\n",
    "                        self.position.reshape(self.grid_size, self.grid_size,1)),axis=2)\n",
    "\n",
    "        state = state[self.x - 2:self.x + 3, self.y - 2:self.y + 3, :]\n",
    "        return state"
   ]
  },
  {
   "cell_type": "markdown",
   "metadata": {
    "colab_type": "text",
    "id": "Oj8WfCYG3ja3"
   },
   "source": [
    "The following elements are important because they correspond to the hyper parameters for this project:"
   ]
  },
  {
   "cell_type": "code",
   "execution_count": 0,
   "metadata": {
    "colab": {},
    "colab_type": "code",
    "id": "nxFqJRv53ja5"
   },
   "outputs": [],
   "source": [
    "# parameters\n",
    "size = 13\n",
    "T=200\n",
    "temperature=0.3\n",
    "epochs_train=40 # set small when debugging\n",
    "epochs_test=20 # set small when debugging\n",
    "\n",
    "# display videos\n",
    "def display_videos(name):\n",
    "    video = io.open(name, 'r+b').read()\n",
    "    encoded = base64.b64encode(video)\n",
    "    return '''<video alt=\"test\" controls>\n",
    "                <source src=\"data:video/mp4;base64,{0}\" type=\"video/mp4\" />\n",
    "             </video>'''.format(encoded.decode('ascii'))"
   ]
  },
  {
   "cell_type": "markdown",
   "metadata": {
    "colab_type": "text",
    "id": "QfnAhKrh3jbB"
   },
   "source": [
    "__Question 2__ Explain the use of the arrays ```position``` and ```board```."
   ]
  },
  {
   "cell_type": "markdown",
   "metadata": {
    "colab_type": "text",
    "id": "VF1TrJzT3jbD"
   },
   "source": [
    "\n",
    "\n",
    "*   ```position``` is an array to remember where the rat has already been. We are puting a $1$ in all the cells that are visited by the rat in its journey. The default value is $0$. We are puting a $-1$ values for all the cell the rat is not supposed to visit to explore: it has a visibility of $2$ so it doesn't need to go in the first two rows and columns and the two last ones to know if there is cheere or poison in theses cells. \n",
    "*   ```board``` is an array which contains the location of the cheese and the poison. These locations are in fact floats corresponding to the reward (different reward values for the cheese or the poison.)\n",
    "\n"
   ]
  },
  {
   "cell_type": "markdown",
   "metadata": {
    "colab_type": "text",
    "id": "BkZJzRsU3jbE"
   },
   "source": [
    "## Random Agent"
   ]
  },
  {
   "cell_type": "markdown",
   "metadata": {
    "colab_type": "text",
    "id": "Pi8EE1Tl3jbH"
   },
   "source": [
    "***\n",
    "__Question 3__ Implement a random Agent (only ```learned_act``` needs to be implemented):"
   ]
  },
  {
   "cell_type": "code",
   "execution_count": 0,
   "metadata": {
    "colab": {},
    "colab_type": "code",
    "id": "7a6RlVS33jbI"
   },
   "outputs": [],
   "source": [
    "class RandomAgent(Agent):\n",
    "    def __init__(self):\n",
    "        super(RandomAgent, self).__init__()\n",
    "        pass\n",
    "\n",
    "    def learned_act(self, s):\n",
    "        #Just chose action randomly\n",
    "        a = np.random.randint(0, self.n_action, size=1)[0]\n",
    "        return a"
   ]
  },
  {
   "cell_type": "markdown",
   "metadata": {
    "colab_type": "text",
    "id": "emWtJDLQ3jbP"
   },
   "source": [
    "***\n",
    "***\n",
    "__Question 4__ Visualize the game moves. You need to fill in the following function for the evaluation:"
   ]
  },
  {
   "cell_type": "code",
   "execution_count": 0,
   "metadata": {
    "colab": {},
    "colab_type": "code",
    "id": "AlYf2jDj3jbR"
   },
   "outputs": [],
   "source": [
    "\n",
    "    \n",
    "\n",
    "def test(agent,env,epochs,prefix=''):\n",
    "\n",
    "    \n",
    "    # Number of won games\n",
    "    score = 0\n",
    "        \n",
    "    for e in range(epochs):\n",
    "        \n",
    "        ##### \n",
    "        state = env.reset()\n",
    "        game_over = False\n",
    "\n",
    "        win = 0\n",
    "        lose = 0\n",
    "\n",
    "        while not game_over:\n",
    "            action = agent.act(state)\n",
    "            prev_state = state\n",
    "            state, reward, game_over = env.act(action)\n",
    "\n",
    "            if reward > 0:\n",
    "                win += reward\n",
    "            if reward < 0:\n",
    "                lose -= reward\n",
    "        #####\n",
    "        \n",
    "        # Save as a mp4\n",
    "        env.draw(prefix+str(e))\n",
    "\n",
    "        # Update stats\n",
    "        score = score + win-lose\n",
    "\n",
    "        print(\"Win/lose count {}/{}. Average score ({})\"\n",
    "              .format(win, lose, score/(1+e)))\n",
    "    print('Final score: '+str(score/epochs))"
   ]
  },
  {
   "cell_type": "code",
   "execution_count": 10,
   "metadata": {
    "colab": {
     "base_uri": "https://localhost:8080/",
     "height": 678
    },
    "colab_type": "code",
    "executionInfo": {
     "elapsed": 30171,
     "status": "ok",
     "timestamp": 1583087442588,
     "user": {
      "displayName": "Ines M",
      "photoUrl": "https://lh3.googleusercontent.com/a-/AOh14GjSaQ3IxuymC3myRFtDUDc_SYgrvYolwsTZ7n5z=s64",
      "userId": "15452657327672251894"
     },
     "user_tz": -60
    },
    "id": "2JqNWXc13jbX",
    "outputId": "c7ea5ece-ef1b-4a7d-a208-7f47523e09e1"
   },
   "outputs": [
    {
     "name": "stdout",
     "output_type": "stream",
     "text": [
      "Win/lose count 7.5/8.0. Average score (-0.5)\n",
      "Win/lose count 9.5/8.0. Average score (0.5)\n",
      "Win/lose count 7.5/11.0. Average score (-0.8333333333333334)\n",
      "Win/lose count 9.5/11.0. Average score (-1.0)\n",
      "Win/lose count 9.5/15.0. Average score (-1.9)\n",
      "Win/lose count 7.5/16.0. Average score (-3.0)\n",
      "Win/lose count 8.0/18.0. Average score (-4.0)\n",
      "Win/lose count 11.0/14.0. Average score (-3.875)\n",
      "Win/lose count 5.0/9.0. Average score (-3.888888888888889)\n",
      "Win/lose count 9.0/10.0. Average score (-3.6)\n",
      "Win/lose count 8.5/19.0. Average score (-4.2272727272727275)\n",
      "Win/lose count 10.5/10.0. Average score (-3.8333333333333335)\n",
      "Win/lose count 8.0/11.0. Average score (-3.769230769230769)\n",
      "Win/lose count 11.0/19.0. Average score (-4.071428571428571)\n",
      "Win/lose count 11.5/15.0. Average score (-4.033333333333333)\n",
      "Win/lose count 8.0/8.0. Average score (-3.78125)\n",
      "Win/lose count 10.5/11.0. Average score (-3.588235294117647)\n",
      "Win/lose count 14.0/15.0. Average score (-3.4444444444444446)\n",
      "Win/lose count 13.0/15.0. Average score (-3.3684210526315788)\n",
      "Win/lose count 9.5/7.0. Average score (-3.075)\n",
      "Final score: -3.075\n"
     ]
    },
    {
     "data": {
      "text/html": [
       "<video alt=\"test\" controls>\n",
       "                <source src=\"data:video/mp4;base64,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\" type=\"video/mp4\" />\n",
       "             </video>"
      ],
      "text/plain": [
       "<IPython.core.display.HTML object>"
      ]
     },
     "execution_count": 10,
     "metadata": {
      "tags": []
     },
     "output_type": "execute_result"
    }
   ],
   "source": [
    "# Initialize the game\n",
    "env = Environment(grid_size=size, max_time=T,temperature=temperature)\n",
    "\n",
    "# Initialize the agent!\n",
    "agent = RandomAgent()\n",
    "\n",
    "test(agent,env,epochs_test,prefix='random')\n",
    "HTML(display_videos('random0.mp4'))"
   ]
  },
  {
   "cell_type": "markdown",
   "metadata": {
    "colab_type": "text",
    "id": "ABjWXRMUTAH_"
   },
   "source": [
    "The final score isn't positive at all! The rat isn't winning. There is no learning because we chose a random agent."
   ]
  },
  {
   "cell_type": "markdown",
   "metadata": {
    "colab_type": "text",
    "id": "5D5vG2qj3jbc"
   },
   "source": [
    "***\n",
    "## DQN"
   ]
  },
  {
   "cell_type": "markdown",
   "metadata": {
    "colab_type": "text",
    "id": "LgajnJej3jbg"
   },
   "source": [
    "Let us assume here that $T=\\infty$.\n",
    "\n",
    "***\n",
    "__Question 5__ Let $\\pi$ be a policy, show that:\n",
    "\n",
    "\\begin{equation*}\n",
    "Q^{\\pi}(s,a)=E_{(s',a')\\sim p(.|s,a)}[r(s,a)+\\gamma Q^{\\pi}(s',a')]\n",
    "\\end{equation*}\n",
    "\n",
    "Then, show that for the optimal policy $\\pi^*$ (we assume its existence), the following holds: \n",
    "\n",
    "\\begin{equation*}\n",
    "Q^{*}(s,a)=E_{s'\\sim \\pi^*(.|s,a)}[r(s,a)+\\gamma\\max_{a'}Q^{*}(s',a')].\n",
    "\\end{equation*}\n",
    "Finally, deduce that a plausible objective is:\n",
    "\n",
    "\\begin{equation*}\n",
    "\\mathcal{L}(\\theta)=E_{s' \\sim \\pi^*(.|s,a)}\\Vert r+\\gamma\\max\\max_{a'}Q(s',a',\\theta)-Q(s,a,\\theta)\\Vert^{2}.\n",
    "\\end{equation*}\n",
    "\n",
    "\n"
   ]
  },
  {
   "cell_type": "markdown",
   "metadata": {
    "colab_type": "text",
    "id": "Sxq4seja3jbh"
   },
   "source": [
    "\n",
    "\n",
    "\n",
    "\n",
    "*    First part of the answer\n",
    "\n",
    "\\begin{align*}\n",
    "    Q^{\\pi}(s,a) &= E[ \\sum_{k=0}^{\\infty} \\gamma^k r_{t+k}|s_t = s, a_t = a] \\\\\n",
    "                &= E[ r(s,a) + \\sum_{k=1}^{\\infty} \\gamma^k r_{t+k}|s_t = s, a_t = a] \\\\\n",
    "                &= r(s,a) + \\gamma E[E[\\sum_{k=0}^{\\infty}[\\gamma^k r_{t+1+k}|s_{t+1}=s',a_{t+1}=a']|s_t = s, a_t = a] \\\\\n",
    "                &= r(s,a) + \\gamma \\sum_{s',a'}(p(s_{t+1}=s',a_{t+1}=a' |s_t = s, a_t = a )[E[\\sum_{k=0}^{\\infty}\\gamma^k r_{t+1+k}|s_{t+1}=s',a_{t+1}=a']\\\\\n",
    "                &= \\sum_{s',a'} (p(s_{t+1}=s',a_{t+1}=a' |s_t = s, a_t = a ) r(s,a) + \\gamma \\sum_{s',a'}(p(s_{t+1}=s',a_{t+1}=a' |s_t = s, a_t = a )E[\\sum_{k=0}^{\\infty}\\gamma^k r_{t+1+k}|s_{t+1}=s',a_{t+1}=a']\\\\\n",
    "                &= E_{s',a'\\sim p(.|s,a)}[r(s,a)+\\gamma Q^{\\pi}(s',a')]\n",
    "\\end{align*}\n",
    "\n",
    "*    Second part\n",
    "\n",
    "We want to compute the optimum $Q^* = Q^{\\pi^*}= \\max_{\\pi} Q^{\\pi}(s,a)$\n",
    "\n",
    "As $\\pi^*$ is a optimal policy, we know that: \n",
    "$$Q^{\\pi^*}(s) = \\max_{a'} Q^{\\pi^*}(s, a')$$\n",
    "\n",
    "\\begin{align*}\n",
    "Q^{\\pi*}(s,a) &= E_{s',a'\\sim p(.|s,a)}[r(s,a)+\\gamma Q^{\\pi*}(s',a')] \\\\\n",
    "            &= E_{s',a'\\sim p(.|s,a)}[r(s,a)+\\gamma \\max_{a'} Q^{\\pi^*}(s', a')] \\\\\n",
    "            &= E_{s',a'\\sim p(.|s,a)}[r(s,a)+\\gamma \\max_{a'} Q^{*}(s', a')] \\\\ \n",
    "\\end{align*}"
   ]
  },
  {
   "cell_type": "markdown",
   "metadata": {
    "colab_type": "text",
    "id": "0OdJm8C13jbi"
   },
   "source": [
    "***\n",
    "The DQN-learning algorithm relies on these derivations to train the parameters $\\theta$ of a Deep Neural Network:\n",
    "\n",
    "1. At the state $s_t$, select the action $a_t$ with best reward using $Q_t$ and store the results;\n",
    "\n",
    "2. Obtain the new state $s_{t+1}$ from the environment $p$;\n",
    "\n",
    "3. Store $(s_t,a_t,s_{t+1})$;\n",
    "\n",
    "4. Obtain $Q_{t+1}$ by minimizing  $\\mathcal{L}$ from a recovered batch from the previously stored results.\n",
    "\n",
    "***\n",
    "__Question 6__ Implement the class ```Memory``` that stores moves (in a replay buffer) via ```remember``` and provides a ```random_access``` to these. Specify a maximum memory size to avoid side effects. You can for example use a ```list()``` and set by default ```max_memory=100```."
   ]
  },
  {
   "cell_type": "code",
   "execution_count": 0,
   "metadata": {
    "colab": {},
    "colab_type": "code",
    "id": "HEIOcpSC3jbj"
   },
   "outputs": [],
   "source": [
    "class Memory(object):\n",
    "    def __init__(self, max_memory=100):\n",
    "        self.max_memory = max_memory\n",
    "        self.memory = list()\n",
    "\n",
    "    def remember(self, m):\n",
    "        #remember m\n",
    "        self.memory.append(m)\n",
    "        #Adjust the size of the buffer\n",
    "        if len(self.memory) > self.max_memory:\n",
    "          #Remove the first one to adjust the length\n",
    "          del self.memory[0]\n",
    "\n",
    "    def random_access(self):\n",
    "        #Pick random int i and return memory[i]\n",
    "        i = np.random.randint(0, len(self.memory), size=1)[0]\n",
    "        return self.memory[i] #state, n_state, action, reward, game_over"
   ]
  },
  {
   "cell_type": "markdown",
   "metadata": {
    "colab_type": "text",
    "id": "uMpWw5fe3jbo"
   },
   "source": [
    "***\n",
    "The pipeline we will use for training is given below:"
   ]
  },
  {
   "cell_type": "code",
   "execution_count": 0,
   "metadata": {
    "colab": {},
    "colab_type": "code",
    "id": "a5EZysxW3jbq"
   },
   "outputs": [],
   "source": [
    "def train(agent,env,epoch,prefix=''):\n",
    "    # Number of won games\n",
    "    score = 0\n",
    "    loss = 0\n",
    "\n",
    "    for e in range(epoch):\n",
    "        # At each epoch, we restart to a fresh game and get the initial state\n",
    "        state = env.reset()\n",
    "        # This assumes that the games will terminate\n",
    "        game_over = False\n",
    "\n",
    "        win = 0\n",
    "        lose = 0\n",
    "\n",
    "        while not game_over:\n",
    "            # The agent performs an action\n",
    "            action = agent.act(state)\n",
    "\n",
    "            # Apply an action to the environment, get the next state, the reward\n",
    "            # and if the games end\n",
    "            prev_state = state\n",
    "            state, reward, game_over = env.act(action)\n",
    "\n",
    "            # Update the counters\n",
    "            if reward > 0:\n",
    "                win = win + reward\n",
    "            if reward < 0:\n",
    "                lose = lose -reward\n",
    "\n",
    "            # Apply the reinforcement strategy\n",
    "            loss = agent.reinforce(prev_state, state,  action, reward, game_over)\n",
    "\n",
    "        # Save as a mp4\n",
    "        if e % 10 == 0:\n",
    "            env.draw(prefix+str(e))\n",
    "\n",
    "        # Update stats\n",
    "        score += win-lose\n",
    "\n",
    "        print(\"Epoch {:03d}/{:03d} | Loss {:.4f} | Win/lose count {}/{} ({})\"\n",
    "              .format(e, epoch, loss, win, lose, win-lose))\n",
    "        agent.save(name_weights=prefix+'model.h5',name_model=prefix+'model.json')"
   ]
  },
  {
   "cell_type": "markdown",
   "metadata": {
    "colab_type": "text",
    "id": "AO15Z1Q-3jbv"
   },
   "source": [
    "***\n",
    "__Question 7__ Implement the DQN training algorithm using a cascade of fully connected layers. You can use different learning rate, batch size or memory size parameters. In particular, the loss might oscillate while the player will start to win the games. You have to find a good criterium."
   ]
  },
  {
   "cell_type": "code",
   "execution_count": 0,
   "metadata": {
    "colab": {},
    "colab_type": "code",
    "id": "VTJtYhXp3jbx"
   },
   "outputs": [],
   "source": [
    "class DQN(Agent):\n",
    "    def __init__(self, grid_size,  epsilon = 0.1, memory_size=100, batch_size = 16,n_state=2):\n",
    "        super(DQN, self).__init__(epsilon = epsilon)\n",
    "\n",
    "        # Discount for Q learning\n",
    "        self.discount = 0.99\n",
    "        \n",
    "        self.grid_size = grid_size\n",
    "        \n",
    "        # number of state\n",
    "        self.n_state = n_state\n",
    "\n",
    "        # Memory\n",
    "        self.memory = Memory(memory_size)\n",
    "        \n",
    "        # Batch size when learning\n",
    "        self.batch_size = batch_size\n",
    "\n",
    "    def learned_act(self, state):\n",
    "        #reshape state\n",
    "        state_re = state.reshape([1, state.shape[0], state.shape[1], state.shape[2]])\n",
    "        #Action maximizing the predicted target\n",
    "        return np.argmax(self.model.predict(state_re)[0, :])\n",
    "\n",
    "    def reinforce(self, s_, n_s_, a_, r_, game_over_):\n",
    "        # Two steps: first memorize the states, second learn from the pool\n",
    "\n",
    "        self.memory.remember([s_, n_s_, a_, r_, game_over_])\n",
    "        \n",
    "        input_states = np.zeros((self.batch_size, 5,5,self.n_state))\n",
    "        target_q = np.zeros((self.batch_size, 4))\n",
    "        \n",
    "        for i in range(self.batch_size):\n",
    "            ######## FILL IN\n",
    "            #Random access of the memorized displacement\n",
    "            state, n_state, action, reward, game_over = self.memory.random_access()\n",
    "\n",
    "            #State is a tensor, reshape it\n",
    "            state_re = state.reshape([1, state.shape[0], state.shape[1], state.shape[2]])\n",
    "            #Compute the target thanks to the model\n",
    "            target_q[i] = self.model.predict(state_re)[0] \n",
    "            \n",
    "            if game_over_:\n",
    "                ######## FILL IN\n",
    "                #We don't have any new information, no improvement\n",
    "                input_states[i] = state\n",
    "                target_q[i, action] = reward\n",
    "            else:\n",
    "                ######## FILL IN\n",
    "                #Improvement\n",
    "                input_states[i] = state\n",
    "                #For each state, compute the q values\n",
    "                n_state_re = n_state.reshape([1, n_state.shape[0], n_state.shape[1], n_state.shape[2]])\n",
    "                #Compute Q*\n",
    "                target_q[i, action] = reward + self.discount * max(self.model.predict(n_state_re)[0])\n",
    "\n",
    "        # HINT: Clip the target to avoid exploiding gradients.. -- clipping is a bit tighter\n",
    "        target_q = np.clip(target_q, -3, 3)\n",
    "\n",
    "        l = self.model.train_on_batch(input_states, target_q)\n",
    "\n",
    "\n",
    "        return l\n",
    "\n",
    "    def save(self,name_weights='model.h5',name_model='model.json'):\n",
    "        self.model.save_weights(name_weights, overwrite=True)\n",
    "        with open(name_model, \"w\") as outfile:\n",
    "            json.dump(self.model.to_json(), outfile)\n",
    "            \n",
    "    def load(self,name_weights='model.h5',name_model='model.json'):\n",
    "        with open(name_model, \"r\") as jfile:\n",
    "            model = model_from_json(json.load(jfile))\n",
    "        model.load_weights(name_weights)\n",
    "        model.compile(\"sgd\", \"mse\")\n",
    "        self.model = model\n",
    "\n",
    "            \n",
    "class DQN_FC(DQN):\n",
    "    def __init__(self, *args, lr=0.1,**kwargs):\n",
    "        super(DQN_FC, self).__init__( *args,**kwargs)\n",
    "        \n",
    "        # NN Model\n",
    "        \n",
    "        ####### FILL IN\n",
    "        model = Sequential()\n",
    "        model.add(Flatten(input_shape=(5, 5, self.n_state)))\n",
    "        model.add(Dense(20, activation='relu'))\n",
    "        model.add(Dense(4)) #Dimension of the target_q\n",
    "        \n",
    "        model.compile(sgd(lr=lr, decay=1e-4, momentum=0.0), \"mse\")\n",
    "        self.model = model\n",
    "        "
   ]
  },
  {
   "cell_type": "code",
   "execution_count": 15,
   "metadata": {
    "colab": {
     "base_uri": "https://localhost:8080/",
     "height": 750
    },
    "colab_type": "code",
    "executionInfo": {
     "elapsed": 324544,
     "status": "ok",
     "timestamp": 1583088906703,
     "user": {
      "displayName": "Ines M",
      "photoUrl": "https://lh3.googleusercontent.com/a-/AOh14GjSaQ3IxuymC3myRFtDUDc_SYgrvYolwsTZ7n5z=s64",
      "userId": "15452657327672251894"
     },
     "user_tz": -60
    },
    "id": "NRW86zJ23jb2",
    "outputId": "474c87b5-03f7-48cf-f83a-b26dd4fd43f9"
   },
   "outputs": [
    {
     "name": "stdout",
     "output_type": "stream",
     "text": [
      "Epoch 000/040 | Loss 0.1640 | Win/lose count 6.5/4.0 (2.5)\n",
      "Epoch 001/040 | Loss 1.1351 | Win/lose count 6.5/3.0 (3.5)\n",
      "Epoch 002/040 | Loss 1.6222 | Win/lose count 4.0/1.0 (3.0)\n",
      "Epoch 003/040 | Loss 1.7030 | Win/lose count 4.0/2.0 (2.0)\n",
      "Epoch 004/040 | Loss 1.8792 | Win/lose count 6.5/5.0 (1.5)\n",
      "Epoch 005/040 | Loss 1.7856 | Win/lose count 4.0/5.0 (-1.0)\n",
      "Epoch 006/040 | Loss 1.6046 | Win/lose count 5.5/5.0 (0.5)\n",
      "Epoch 007/040 | Loss 1.7033 | Win/lose count 1.5/3.0 (-1.5)\n",
      "Epoch 008/040 | Loss 1.6915 | Win/lose count 4.0/4.0 (0.0)\n",
      "Epoch 009/040 | Loss 1.7387 | Win/lose count 2.5/3.0 (-0.5)\n",
      "Epoch 010/040 | Loss 1.6950 | Win/lose count 3.5/7.0 (-3.5)\n",
      "Epoch 011/040 | Loss 1.6437 | Win/lose count 4.0/2.0 (2.0)\n",
      "Epoch 012/040 | Loss 1.7224 | Win/lose count 6.5/2.0 (4.5)\n",
      "Epoch 013/040 | Loss 1.7137 | Win/lose count 1.0/0 (1.0)\n",
      "Epoch 014/040 | Loss 1.6071 | Win/lose count 2.0/4.0 (-2.0)\n",
      "Epoch 015/040 | Loss 1.4564 | Win/lose count 2.0/3.0 (-1.0)\n",
      "Epoch 016/040 | Loss 1.1900 | Win/lose count 6.0/7.0 (-1.0)\n",
      "Epoch 017/040 | Loss 1.2087 | Win/lose count 4.5/4.0 (0.5)\n",
      "Epoch 018/040 | Loss 1.1991 | Win/lose count 3.5/4.0 (-0.5)\n",
      "Epoch 019/040 | Loss 1.3693 | Win/lose count 6.5/0 (6.5)\n",
      "Epoch 020/040 | Loss 1.2993 | Win/lose count 5.0/3.0 (2.0)\n",
      "Epoch 021/040 | Loss 1.4355 | Win/lose count 5.0/1.0 (4.0)\n",
      "Epoch 022/040 | Loss 1.4240 | Win/lose count 4.5/3.0 (1.5)\n",
      "Epoch 023/040 | Loss 1.3079 | Win/lose count 2.0/2.0 (0.0)\n",
      "Epoch 024/040 | Loss 1.3651 | Win/lose count 9.0/1.0 (8.0)\n",
      "Epoch 025/040 | Loss 1.3775 | Win/lose count 7.5/1.0 (6.5)\n",
      "Epoch 026/040 | Loss 1.5748 | Win/lose count 6.0/7.0 (-1.0)\n",
      "Epoch 027/040 | Loss 1.5530 | Win/lose count 5.0/1.0 (4.0)\n",
      "Epoch 028/040 | Loss 1.5756 | Win/lose count 9.5/5.0 (4.5)\n",
      "Epoch 029/040 | Loss 1.5444 | Win/lose count 4.0/2.0 (2.0)\n",
      "Epoch 030/040 | Loss 1.5993 | Win/lose count 11.5/6.0 (5.5)\n",
      "Epoch 031/040 | Loss 1.5189 | Win/lose count 9.0/2.0 (7.0)\n",
      "Epoch 032/040 | Loss 1.4511 | Win/lose count 3.0/6.0 (-3.0)\n",
      "Epoch 033/040 | Loss 1.5703 | Win/lose count 3.0/2.0 (1.0)\n",
      "Epoch 034/040 | Loss 1.5423 | Win/lose count 4.0/1.0 (3.0)\n",
      "Epoch 035/040 | Loss 1.5220 | Win/lose count 7.5/4.0 (3.5)\n",
      "Epoch 036/040 | Loss 1.5200 | Win/lose count 2.5/4.0 (-1.5)\n",
      "Epoch 037/040 | Loss 1.5249 | Win/lose count 1.5/0 (1.5)\n",
      "Epoch 038/040 | Loss 1.4912 | Win/lose count 3.0/2.0 (1.0)\n",
      "Epoch 039/040 | Loss 1.5107 | Win/lose count 6.5/2.0 (4.5)\n"
     ]
    }
   ],
   "source": [
    "# Set parameters values\n",
    "size = 13\n",
    "T=200\n",
    "temperature=0.3\n",
    "epochs_train=40 # set small when debugging\n",
    "epochs_test=20 # set small when debugging\n",
    "\n",
    "\n",
    "env = Environment(grid_size=size, max_time=T, temperature=0.3)\n",
    "agent = DQN_FC(size, lr=.1, epsilon = 0.1, memory_size=2000, batch_size = 32)\n",
    "train(agent, env, epochs_train, prefix='fc_train')\n",
    "#HTML(display_videos('fc_train9.mp4'))"
   ]
  },
  {
   "cell_type": "markdown",
   "metadata": {
    "colab_type": "text",
    "id": "dmes1Iku3jb5"
   },
   "source": [
    "***\n",
    "***\n",
    "__Question 8__ Implement the DQN training algorithm using a CNN (for example, 2 convolutional layers and one final fully connected layer)."
   ]
  },
  {
   "cell_type": "code",
   "execution_count": 0,
   "metadata": {
    "colab": {},
    "colab_type": "code",
    "id": "yub6R0QF3jb6"
   },
   "outputs": [],
   "source": [
    "class DQN_CNN(DQN):\n",
    "    def __init__(self, *args,lr=0.1,**kwargs):\n",
    "        super(DQN_CNN, self).__init__(*args,**kwargs)\n",
    "        \n",
    "        ###### FILL IN\n",
    "        model = Sequential()\n",
    "        model.add(Conv2D(30, (2, 2), input_shape=(5, 5, self.n_state,), activation='relu'))\n",
    "        model.add(Conv2D(30, (2, 2), activation='relu'))\n",
    "        model.add(Flatten())\n",
    "        model.add(Dense(4))\n",
    "        \n",
    "        model.compile(sgd(lr=lr, decay=1e-4, momentum=0.0), \"mse\")\n",
    "        self.model = model"
   ]
  },
  {
   "cell_type": "code",
   "execution_count": 17,
   "metadata": {
    "colab": {
     "base_uri": "https://localhost:8080/",
     "height": 750
    },
    "colab_type": "code",
    "executionInfo": {
     "elapsed": 702925,
     "status": "ok",
     "timestamp": 1583089298116,
     "user": {
      "displayName": "Ines M",
      "photoUrl": "https://lh3.googleusercontent.com/a-/AOh14GjSaQ3IxuymC3myRFtDUDc_SYgrvYolwsTZ7n5z=s64",
      "userId": "15452657327672251894"
     },
     "user_tz": -60
    },
    "id": "NWpRv_BO3jcA",
    "outputId": "f0a21a1e-a4b7-4580-fbd9-c54a259a70cf"
   },
   "outputs": [
    {
     "name": "stdout",
     "output_type": "stream",
     "text": [
      "Epoch 000/040 | Loss 0.0076 | Win/lose count 3.5/7.0 (-3.5)\n",
      "Epoch 001/040 | Loss 0.0294 | Win/lose count 3.0/1.0 (2.0)\n",
      "Epoch 002/040 | Loss 0.0605 | Win/lose count 1.5/2.0 (-0.5)\n",
      "Epoch 003/040 | Loss 0.2787 | Win/lose count 4.5/4.0 (0.5)\n",
      "Epoch 004/040 | Loss 1.1157 | Win/lose count 0.5/1.0 (-0.5)\n",
      "Epoch 005/040 | Loss 1.9891 | Win/lose count 4.0/1.0 (3.0)\n",
      "Epoch 006/040 | Loss 1.9015 | Win/lose count 4.5/2.0 (2.5)\n",
      "Epoch 007/040 | Loss 2.0231 | Win/lose count 2.5/3.0 (-0.5)\n",
      "Epoch 008/040 | Loss 1.9571 | Win/lose count 11.0/3.0 (8.0)\n",
      "Epoch 009/040 | Loss 1.9486 | Win/lose count 6.5/4.0 (2.5)\n",
      "Epoch 010/040 | Loss 1.8471 | Win/lose count 6.5/2.0 (4.5)\n",
      "Epoch 011/040 | Loss 1.7962 | Win/lose count 5.5/3.0 (2.5)\n",
      "Epoch 012/040 | Loss 1.9832 | Win/lose count 11.5/8.0 (3.5)\n",
      "Epoch 013/040 | Loss 1.9105 | Win/lose count 7.0/6.0 (1.0)\n",
      "Epoch 014/040 | Loss 1.8267 | Win/lose count 11.0/1.0 (10.0)\n",
      "Epoch 015/040 | Loss 1.8561 | Win/lose count 6.5/4.0 (2.5)\n",
      "Epoch 016/040 | Loss 1.8055 | Win/lose count 6.0/2.0 (4.0)\n",
      "Epoch 017/040 | Loss 1.8623 | Win/lose count 7.0/2.0 (5.0)\n",
      "Epoch 018/040 | Loss 1.9118 | Win/lose count 10.0/0 (10.0)\n",
      "Epoch 019/040 | Loss 1.9109 | Win/lose count 9.0/2.0 (7.0)\n",
      "Epoch 020/040 | Loss 1.9279 | Win/lose count 7.5/4.0 (3.5)\n",
      "Epoch 021/040 | Loss 1.7831 | Win/lose count 8.0/1.0 (7.0)\n",
      "Epoch 022/040 | Loss 1.8004 | Win/lose count 6.0/1.0 (5.0)\n",
      "Epoch 023/040 | Loss 1.8296 | Win/lose count 2.0/0 (2.0)\n",
      "Epoch 024/040 | Loss 1.8389 | Win/lose count 15.0/2.0 (13.0)\n",
      "Epoch 025/040 | Loss 1.9505 | Win/lose count 11.5/3.0 (8.5)\n",
      "Epoch 026/040 | Loss 1.9510 | Win/lose count 5.5/1.0 (4.5)\n",
      "Epoch 027/040 | Loss 1.8236 | Win/lose count 6.0/3.0 (3.0)\n",
      "Epoch 028/040 | Loss 1.8748 | Win/lose count 14.5/2.0 (12.5)\n",
      "Epoch 029/040 | Loss 1.7918 | Win/lose count 3.0/3.0 (0.0)\n",
      "Epoch 030/040 | Loss 1.8753 | Win/lose count 19.5/2.0 (17.5)\n",
      "Epoch 031/040 | Loss 1.8805 | Win/lose count 1.5/2.0 (-0.5)\n",
      "Epoch 032/040 | Loss 1.7572 | Win/lose count 22.5/2.0 (20.5)\n",
      "Epoch 033/040 | Loss 1.8469 | Win/lose count 9.5/4.0 (5.5)\n",
      "Epoch 034/040 | Loss 1.8124 | Win/lose count 17.0/1.0 (16.0)\n",
      "Epoch 035/040 | Loss 1.9812 | Win/lose count 10.0/3.0 (7.0)\n",
      "Epoch 036/040 | Loss 1.8488 | Win/lose count 21.5/5.0 (16.5)\n",
      "Epoch 037/040 | Loss 1.8445 | Win/lose count 17.0/4.0 (13.0)\n",
      "Epoch 038/040 | Loss 1.8739 | Win/lose count 8.0/3.0 (5.0)\n",
      "Epoch 039/040 | Loss 1.8813 | Win/lose count 18.5/2.0 (16.5)\n"
     ]
    }
   ],
   "source": [
    "env = Environment(grid_size=size, max_time=T, temperature=0.3)\n",
    "agent = DQN_CNN(size, lr=.1, epsilon = 0.1, memory_size=2000, batch_size = 32)\n",
    "train(agent,env,epochs_train,prefix='cnn_train')\n",
    "#HTML(display_videos('cnn_train9.mp4'))"
   ]
  },
  {
   "cell_type": "markdown",
   "metadata": {
    "colab_type": "text",
    "id": "d7smyH2p3jcE"
   },
   "source": [
    "***\n",
    "***\n",
    "__Question 9__ Test both algorithms and compare their performances. Which issue(s) do you observe? Observe also different behaviors by changing the temperature."
   ]
  },
  {
   "cell_type": "code",
   "execution_count": 0,
   "metadata": {
    "colab": {},
    "colab_type": "code",
    "id": "629ZnziAbymQ"
   },
   "outputs": [],
   "source": [
    "temperature_li = [0.1 * i for i in range(1, 10)]"
   ]
  },
  {
   "cell_type": "code",
   "execution_count": 19,
   "metadata": {
    "colab": {
     "base_uri": "https://localhost:8080/",
     "height": 1000
    },
    "colab_type": "code",
    "executionInfo": {
     "elapsed": 465876,
     "status": "ok",
     "timestamp": 1583089764032,
     "user": {
      "displayName": "Ines M",
      "photoUrl": "https://lh3.googleusercontent.com/a-/AOh14GjSaQ3IxuymC3myRFtDUDc_SYgrvYolwsTZ7n5z=s64",
      "userId": "15452657327672251894"
     },
     "user_tz": -60
    },
    "id": "at_5dWJl3jcF",
    "outputId": "00485682-0a23-490c-e202-748f220168ef"
   },
   "outputs": [
    {
     "name": "stdout",
     "output_type": "stream",
     "text": [
      "Temperature =  0.1\n",
      "Test of the CNN\n",
      "Win/lose count 3.5/2.0. Average score (1.5)\n",
      "Win/lose count 8.0/5.0. Average score (2.25)\n",
      "Win/lose count 6.0/2.0. Average score (2.8333333333333335)\n",
      "Win/lose count 13.5/1.0. Average score (5.25)\n",
      "Win/lose count 9.5/3.0. Average score (5.5)\n",
      "Win/lose count 3.0/2.0. Average score (4.75)\n",
      "Win/lose count 5.5/2.0. Average score (4.571428571428571)\n",
      "Win/lose count 1.5/0. Average score (4.1875)\n",
      "Win/lose count 9.0/1.0. Average score (4.611111111111111)\n",
      "Win/lose count 7.0/5.0. Average score (4.35)\n",
      "Win/lose count 14.0/3.0. Average score (4.954545454545454)\n",
      "Win/lose count 3.5/0. Average score (4.833333333333333)\n",
      "Win/lose count 4.5/3.0. Average score (4.576923076923077)\n",
      "Win/lose count 7.0/1.0. Average score (4.678571428571429)\n",
      "Win/lose count 1.0/1.0. Average score (4.366666666666666)\n",
      "Win/lose count 7.0/1.0. Average score (4.46875)\n",
      "Win/lose count 10.5/7.0. Average score (4.411764705882353)\n",
      "Win/lose count 7.0/2.0. Average score (4.444444444444445)\n",
      "Win/lose count 7.5/3.0. Average score (4.447368421052632)\n",
      "Win/lose count 4.5/1.0. Average score (4.4)\n",
      "Final score: 4.4\n",
      "Test of the FC\n",
      "Win/lose count 3.5/2.0. Average score (1.5)\n",
      "Win/lose count 3.5/1.0. Average score (2.0)\n",
      "Win/lose count 1.0/2.0. Average score (1.0)\n",
      "Win/lose count 1.5/3.0. Average score (0.375)\n",
      "Win/lose count 0.5/5.0. Average score (-0.6)\n",
      "Win/lose count 5.0/3.0. Average score (-0.16666666666666666)\n",
      "Win/lose count 3.0/4.0. Average score (-0.2857142857142857)\n",
      "Win/lose count 2.5/4.0. Average score (-0.4375)\n",
      "Win/lose count 2.0/6.0. Average score (-0.8333333333333334)\n",
      "Win/lose count 2.0/3.0. Average score (-0.85)\n",
      "Win/lose count 2.0/6.0. Average score (-1.1363636363636365)\n",
      "Win/lose count 3.0/8.0. Average score (-1.4583333333333333)\n",
      "Win/lose count 1.5/4.0. Average score (-1.5384615384615385)\n",
      "Win/lose count 2.0/1.0. Average score (-1.3571428571428572)\n",
      "Win/lose count 1.0/2.0. Average score (-1.3333333333333333)\n",
      "Win/lose count 3.0/9.0. Average score (-1.625)\n",
      "Win/lose count 3.0/8.0. Average score (-1.8235294117647058)\n",
      "Win/lose count 2.0/1.0. Average score (-1.6666666666666667)\n",
      "Win/lose count 3.5/1.0. Average score (-1.4473684210526316)\n",
      "Win/lose count 3.0/6.0. Average score (-1.525)\n",
      "Final score: -1.525\n",
      "Temperature =  0.2\n",
      "Test of the CNN\n",
      "Win/lose count 5.5/2.0. Average score (3.5)\n",
      "Win/lose count 5.0/4.0. Average score (2.25)\n",
      "Win/lose count 7.5/4.0. Average score (2.6666666666666665)\n",
      "Win/lose count 3.5/3.0. Average score (2.125)\n",
      "Win/lose count 3.0/1.0. Average score (2.1)\n",
      "Win/lose count 7.5/1.0. Average score (2.8333333333333335)\n",
      "Win/lose count 3.5/4.0. Average score (2.357142857142857)\n",
      "Win/lose count 4.5/1.0. Average score (2.5)\n",
      "Win/lose count 10.0/1.0. Average score (3.2222222222222223)\n",
      "Win/lose count 10.5/5.0. Average score (3.45)\n",
      "Win/lose count 8.5/2.0. Average score (3.727272727272727)\n",
      "Win/lose count 6.5/3.0. Average score (3.7083333333333335)\n",
      "Win/lose count 5.5/3.0. Average score (3.6153846153846154)\n",
      "Win/lose count 13.0/6.0. Average score (3.857142857142857)\n",
      "Win/lose count 8.0/3.0. Average score (3.933333333333333)\n",
      "Win/lose count 7.5/4.0. Average score (3.90625)\n",
      "Win/lose count 8.0/3.0. Average score (3.9705882352941178)\n",
      "Win/lose count 6.0/2.0. Average score (3.9722222222222223)\n",
      "Win/lose count 2.0/1.0. Average score (3.8157894736842106)\n",
      "Win/lose count 5.5/1.0. Average score (3.85)\n",
      "Final score: 3.85\n",
      "Test of the FC\n",
      "Win/lose count 2.5/5.0. Average score (-2.5)\n",
      "Win/lose count 1.5/2.0. Average score (-1.5)\n",
      "Win/lose count 4.5/2.0. Average score (-0.16666666666666666)\n",
      "Win/lose count 2.0/1.0. Average score (0.125)\n",
      "Win/lose count 5.0/7.0. Average score (-0.3)\n",
      "Win/lose count 5.5/6.0. Average score (-0.3333333333333333)\n",
      "Win/lose count 1.0/2.0. Average score (-0.42857142857142855)\n",
      "Win/lose count 3.5/6.0. Average score (-0.6875)\n",
      "Win/lose count 1.5/2.0. Average score (-0.6666666666666666)\n",
      "Win/lose count 5.0/3.0. Average score (-0.4)\n",
      "Win/lose count 4.0/6.0. Average score (-0.5454545454545454)\n",
      "Win/lose count 4.0/8.0. Average score (-0.8333333333333334)\n",
      "Win/lose count 5.5/1.0. Average score (-0.4230769230769231)\n",
      "Win/lose count 0.5/3.0. Average score (-0.5714285714285714)\n",
      "Win/lose count 3.5/6.0. Average score (-0.7)\n",
      "Win/lose count 1.0/3.0. Average score (-0.78125)\n",
      "Win/lose count 3.5/3.0. Average score (-0.7058823529411765)\n",
      "Win/lose count 4.0/2.0. Average score (-0.5555555555555556)\n",
      "Win/lose count 4.0/4.0. Average score (-0.5263157894736842)\n",
      "Win/lose count 2.0/3.0. Average score (-0.55)\n",
      "Final score: -0.55\n",
      "Temperature =  0.30000000000000004\n",
      "Test of the CNN\n",
      "Win/lose count 9.0/2.0. Average score (7.0)\n",
      "Win/lose count 12.5/4.0. Average score (7.75)\n",
      "Win/lose count 6.0/1.0. Average score (6.833333333333333)\n",
      "Win/lose count 5.0/1.0. Average score (6.125)\n",
      "Win/lose count 5.5/0. Average score (6.0)\n",
      "Win/lose count 9.0/0. Average score (6.5)\n",
      "Win/lose count 1.5/3.0. Average score (5.357142857142857)\n",
      "Win/lose count 11.5/2.0. Average score (5.875)\n",
      "Win/lose count 4.0/5.0. Average score (5.111111111111111)\n",
      "Win/lose count 4.5/2.0. Average score (4.85)\n",
      "Win/lose count 4.5/3.0. Average score (4.545454545454546)\n",
      "Win/lose count 10.5/1.0. Average score (4.958333333333333)\n",
      "Win/lose count 7.5/2.0. Average score (5.0)\n",
      "Win/lose count 5.5/1.0. Average score (4.964285714285714)\n",
      "Win/lose count 5.0/3.0. Average score (4.766666666666667)\n",
      "Win/lose count 6.0/0. Average score (4.84375)\n",
      "Win/lose count 4.0/4.0. Average score (4.5588235294117645)\n",
      "Win/lose count 6.0/3.0. Average score (4.472222222222222)\n",
      "Win/lose count 5.0/4.0. Average score (4.2894736842105265)\n",
      "Win/lose count 12.5/6.0. Average score (4.4)\n",
      "Final score: 4.4\n",
      "Test of the FC\n",
      "Win/lose count 4.0/1.0. Average score (3.0)\n",
      "Win/lose count 4.0/3.0. Average score (2.0)\n",
      "Win/lose count 3.0/6.0. Average score (0.3333333333333333)\n",
      "Win/lose count 2.5/5.0. Average score (-0.375)\n",
      "Win/lose count 4.0/6.0. Average score (-0.7)\n",
      "Win/lose count 1.0/6.0. Average score (-1.4166666666666667)\n",
      "Win/lose count 3.5/5.0. Average score (-1.4285714285714286)\n",
      "Win/lose count 1.5/1.0. Average score (-1.1875)\n",
      "Win/lose count 1.5/5.0. Average score (-1.4444444444444444)\n",
      "Win/lose count 5.5/8.0. Average score (-1.55)\n",
      "Win/lose count 6.5/4.0. Average score (-1.1818181818181819)\n",
      "Win/lose count 4.0/5.0. Average score (-1.1666666666666667)\n",
      "Win/lose count 3.5/4.0. Average score (-1.1153846153846154)\n",
      "Win/lose count 2.0/3.0. Average score (-1.1071428571428572)\n",
      "Win/lose count 1.0/5.0. Average score (-1.3)\n",
      "Win/lose count 3.0/0. Average score (-1.03125)\n",
      "Win/lose count 3.5/2.0. Average score (-0.8823529411764706)\n",
      "Win/lose count 3.0/9.0. Average score (-1.1666666666666667)\n",
      "Win/lose count 2.0/5.0. Average score (-1.263157894736842)\n",
      "Win/lose count 2.5/2.0. Average score (-1.175)\n",
      "Final score: -1.175\n",
      "Temperature =  0.4\n",
      "Test of the CNN\n",
      "Win/lose count 6.5/6.0. Average score (0.5)\n",
      "Win/lose count 5.5/3.0. Average score (1.5)\n",
      "Win/lose count 8.0/1.0. Average score (3.3333333333333335)\n",
      "Win/lose count 6.0/4.0. Average score (3.0)\n",
      "Win/lose count 4.5/4.0. Average score (2.5)\n",
      "Win/lose count 3.5/3.0. Average score (2.1666666666666665)\n",
      "Win/lose count 10.5/6.0. Average score (2.5)\n",
      "Win/lose count 3.5/1.0. Average score (2.5)\n",
      "Win/lose count 1.5/0. Average score (2.388888888888889)\n",
      "Win/lose count 5.5/4.0. Average score (2.3)\n",
      "Win/lose count 4.5/0. Average score (2.5)\n",
      "Win/lose count 6.5/0. Average score (2.8333333333333335)\n",
      "Win/lose count 6.0/4.0. Average score (2.769230769230769)\n",
      "Win/lose count 2.0/2.0. Average score (2.5714285714285716)\n",
      "Win/lose count 4.0/3.0. Average score (2.466666666666667)\n",
      "Win/lose count 3.5/4.0. Average score (2.28125)\n",
      "Win/lose count 8.0/3.0. Average score (2.4411764705882355)\n",
      "Win/lose count 5.5/3.0. Average score (2.4444444444444446)\n",
      "Win/lose count 3.5/1.0. Average score (2.4473684210526314)\n",
      "Win/lose count 5.5/2.0. Average score (2.5)\n",
      "Final score: 2.5\n",
      "Test of the FC\n",
      "Win/lose count 5.0/6.0. Average score (-1.0)\n",
      "Win/lose count 5.0/6.0. Average score (-1.0)\n",
      "Win/lose count 5.5/13.0. Average score (-3.1666666666666665)\n",
      "Win/lose count 2.0/7.0. Average score (-3.625)\n",
      "Win/lose count 4.0/6.0. Average score (-3.3)\n",
      "Win/lose count 2.5/10.0. Average score (-4.0)\n",
      "Win/lose count 5.0/7.0. Average score (-3.7142857142857144)\n",
      "Win/lose count 4.0/6.0. Average score (-3.5)\n",
      "Win/lose count 4.5/7.0. Average score (-3.388888888888889)\n",
      "Win/lose count 4.5/11.0. Average score (-3.7)\n",
      "Win/lose count 4.5/3.0. Average score (-3.227272727272727)\n",
      "Win/lose count 3.0/6.0. Average score (-3.2083333333333335)\n",
      "Win/lose count 2.0/2.0. Average score (-2.9615384615384617)\n",
      "Win/lose count 3.0/7.0. Average score (-3.0357142857142856)\n",
      "Win/lose count 3.0/3.0. Average score (-2.8333333333333335)\n",
      "Win/lose count 4.0/1.0. Average score (-2.46875)\n",
      "Win/lose count 4.5/7.0. Average score (-2.4705882352941178)\n",
      "Win/lose count 3.0/3.0. Average score (-2.3333333333333335)\n",
      "Win/lose count 4.0/6.0. Average score (-2.3157894736842106)\n",
      "Win/lose count 5.5/8.0. Average score (-2.325)\n",
      "Final score: -2.325\n",
      "Temperature =  0.5\n",
      "Test of the CNN\n",
      "Win/lose count 8.5/1.0. Average score (7.5)\n",
      "Win/lose count 5.0/4.0. Average score (4.25)\n",
      "Win/lose count 4.0/1.0. Average score (3.8333333333333335)\n",
      "Win/lose count 4.0/2.0. Average score (3.375)\n",
      "Win/lose count 6.5/3.0. Average score (3.4)\n",
      "Win/lose count 6.5/5.0. Average score (3.0833333333333335)\n",
      "Win/lose count 2.0/2.0. Average score (2.642857142857143)\n",
      "Win/lose count 7.5/1.0. Average score (3.125)\n",
      "Win/lose count 5.0/1.0. Average score (3.2222222222222223)\n",
      "Win/lose count 2.5/0. Average score (3.15)\n",
      "Win/lose count 6.5/0. Average score (3.4545454545454546)\n",
      "Win/lose count 6.0/2.0. Average score (3.5)\n",
      "Win/lose count 7.0/2.0. Average score (3.6153846153846154)\n",
      "Win/lose count 6.0/4.0. Average score (3.5)\n",
      "Win/lose count 5.5/4.0. Average score (3.3666666666666667)\n",
      "Win/lose count 5.5/2.0. Average score (3.375)\n",
      "Win/lose count 5.0/3.0. Average score (3.2941176470588234)\n",
      "Win/lose count 5.5/1.0. Average score (3.361111111111111)\n",
      "Win/lose count 7.5/5.0. Average score (3.3157894736842106)\n",
      "Win/lose count 5.0/3.0. Average score (3.25)\n",
      "Final score: 3.25\n",
      "Test of the FC\n",
      "Win/lose count 6.0/4.0. Average score (2.0)\n",
      "Win/lose count 7.0/4.0. Average score (2.5)\n",
      "Win/lose count 2.5/3.0. Average score (1.5)\n",
      "Win/lose count 2.0/2.0. Average score (1.125)\n",
      "Win/lose count 4.5/7.0. Average score (0.4)\n",
      "Win/lose count 5.5/11.0. Average score (-0.5833333333333334)\n",
      "Win/lose count 3.0/3.0. Average score (-0.5)\n",
      "Win/lose count 5.5/9.0. Average score (-0.875)\n",
      "Win/lose count 7.0/7.0. Average score (-0.7777777777777778)\n",
      "Win/lose count 2.0/2.0. Average score (-0.7)\n",
      "Win/lose count 3.5/3.0. Average score (-0.5909090909090909)\n",
      "Win/lose count 2.0/4.0. Average score (-0.7083333333333334)\n",
      "Win/lose count 3.5/5.0. Average score (-0.7692307692307693)\n",
      "Win/lose count 4.0/8.0. Average score (-1.0)\n",
      "Win/lose count 2.5/7.0. Average score (-1.2333333333333334)\n",
      "Win/lose count 4.0/7.0. Average score (-1.34375)\n",
      "Win/lose count 1.5/1.0. Average score (-1.2352941176470589)\n",
      "Win/lose count 2.0/7.0. Average score (-1.4444444444444444)\n",
      "Win/lose count 3.0/7.0. Average score (-1.5789473684210527)\n",
      "Win/lose count 1.5/1.0. Average score (-1.475)\n",
      "Final score: -1.475\n",
      "Temperature =  0.6000000000000001\n",
      "Test of the CNN\n",
      "Win/lose count 7.0/2.0. Average score (5.0)\n",
      "Win/lose count 6.0/5.0. Average score (3.0)\n",
      "Win/lose count 7.5/1.0. Average score (4.166666666666667)\n",
      "Win/lose count 6.0/0. Average score (4.625)\n",
      "Win/lose count 6.5/10.0. Average score (3.0)\n",
      "Win/lose count 9.0/2.0. Average score (3.6666666666666665)\n",
      "Win/lose count 8.5/5.0. Average score (3.642857142857143)\n",
      "Win/lose count 5.0/3.0. Average score (3.4375)\n",
      "Win/lose count 10.0/5.0. Average score (3.611111111111111)\n",
      "Win/lose count 2.0/2.0. Average score (3.25)\n",
      "Win/lose count 6.0/4.0. Average score (3.1363636363636362)\n",
      "Win/lose count 6.5/3.0. Average score (3.1666666666666665)\n",
      "Win/lose count 5.5/5.0. Average score (2.9615384615384617)\n",
      "Win/lose count 3.5/3.0. Average score (2.7857142857142856)\n",
      "Win/lose count 5.0/3.0. Average score (2.7333333333333334)\n",
      "Win/lose count 3.0/4.0. Average score (2.5)\n",
      "Win/lose count 5.0/2.0. Average score (2.5294117647058822)\n",
      "Win/lose count 5.5/2.0. Average score (2.5833333333333335)\n",
      "Win/lose count 3.0/2.0. Average score (2.5)\n",
      "Win/lose count 10.5/4.0. Average score (2.7)\n",
      "Final score: 2.7\n",
      "Test of the FC\n",
      "Win/lose count 4.5/8.0. Average score (-3.5)\n",
      "Win/lose count 8.5/6.0. Average score (-0.5)\n",
      "Win/lose count 6.0/6.0. Average score (-0.3333333333333333)\n",
      "Win/lose count 3.5/5.0. Average score (-0.625)\n",
      "Win/lose count 3.5/7.0. Average score (-1.2)\n",
      "Win/lose count 3.5/4.0. Average score (-1.0833333333333333)\n",
      "Win/lose count 5.0/5.0. Average score (-0.9285714285714286)\n",
      "Win/lose count 1.5/2.0. Average score (-0.875)\n",
      "Win/lose count 1.5/3.0. Average score (-0.9444444444444444)\n",
      "Win/lose count 4.5/3.0. Average score (-0.7)\n",
      "Win/lose count 4.0/4.0. Average score (-0.6363636363636364)\n",
      "Win/lose count 2.0/4.0. Average score (-0.75)\n",
      "Win/lose count 5.5/9.0. Average score (-0.9615384615384616)\n",
      "Win/lose count 8.5/3.0. Average score (-0.5)\n",
      "Win/lose count 3.5/4.0. Average score (-0.5)\n",
      "Win/lose count 6.5/4.0. Average score (-0.3125)\n",
      "Win/lose count 2.5/2.0. Average score (-0.2647058823529412)\n",
      "Win/lose count 2.5/3.0. Average score (-0.2777777777777778)\n",
      "Win/lose count 3.0/2.0. Average score (-0.21052631578947367)\n",
      "Win/lose count 4.5/4.0. Average score (-0.175)\n",
      "Final score: -0.175\n",
      "Temperature =  0.7000000000000001\n",
      "Test of the CNN\n",
      "Win/lose count 3.0/4.0. Average score (-1.0)\n",
      "Win/lose count 5.5/9.0. Average score (-2.25)\n",
      "Win/lose count 12.0/4.0. Average score (1.1666666666666667)\n",
      "Win/lose count 6.5/3.0. Average score (1.75)\n",
      "Win/lose count 6.0/1.0. Average score (2.4)\n",
      "Win/lose count 11.0/6.0. Average score (2.8333333333333335)\n",
      "Win/lose count 7.0/1.0. Average score (3.2857142857142856)\n",
      "Win/lose count 14.5/1.0. Average score (4.5625)\n",
      "Win/lose count 8.5/4.0. Average score (4.555555555555555)\n",
      "Win/lose count 13.0/1.0. Average score (5.3)\n",
      "Win/lose count 14.0/4.0. Average score (5.7272727272727275)\n",
      "Win/lose count 6.0/5.0. Average score (5.333333333333333)\n",
      "Win/lose count 11.5/1.0. Average score (5.730769230769231)\n",
      "Win/lose count 4.0/1.0. Average score (5.535714285714286)\n",
      "Win/lose count 8.0/4.0. Average score (5.433333333333334)\n",
      "Win/lose count 7.5/5.0. Average score (5.25)\n",
      "Win/lose count 14.0/3.0. Average score (5.588235294117647)\n",
      "Win/lose count 3.5/1.0. Average score (5.416666666666667)\n",
      "Win/lose count 5.5/2.0. Average score (5.315789473684211)\n",
      "Win/lose count 7.0/3.0. Average score (5.25)\n",
      "Final score: 5.25\n",
      "Test of the FC\n",
      "Win/lose count 3.0/5.0. Average score (-2.0)\n",
      "Win/lose count 5.0/5.0. Average score (-1.0)\n",
      "Win/lose count 2.5/4.0. Average score (-1.1666666666666667)\n",
      "Win/lose count 5.5/4.0. Average score (-0.5)\n",
      "Win/lose count 3.0/5.0. Average score (-0.8)\n",
      "Win/lose count 1.0/3.0. Average score (-1.0)\n",
      "Win/lose count 2.5/2.0. Average score (-0.7857142857142857)\n",
      "Win/lose count 4.5/4.0. Average score (-0.625)\n",
      "Win/lose count 2.0/4.0. Average score (-0.7777777777777778)\n",
      "Win/lose count 1.5/7.0. Average score (-1.25)\n",
      "Win/lose count 2.5/3.0. Average score (-1.1818181818181819)\n",
      "Win/lose count 3.5/8.0. Average score (-1.4583333333333333)\n",
      "Win/lose count 4.5/1.0. Average score (-1.0769230769230769)\n",
      "Win/lose count 3.5/8.0. Average score (-1.3214285714285714)\n",
      "Win/lose count 2.5/3.0. Average score (-1.2666666666666666)\n",
      "Win/lose count 4.5/2.0. Average score (-1.03125)\n",
      "Win/lose count 2.5/6.0. Average score (-1.1764705882352942)\n",
      "Win/lose count 6.0/5.0. Average score (-1.0555555555555556)\n",
      "Win/lose count 7.5/7.0. Average score (-0.9736842105263158)\n",
      "Win/lose count 5.0/7.0. Average score (-1.025)\n",
      "Final score: -1.025\n",
      "Temperature =  0.8\n",
      "Test of the CNN\n",
      "Win/lose count 8.5/7.0. Average score (1.5)\n",
      "Win/lose count 2.5/1.0. Average score (1.5)\n",
      "Win/lose count 9.0/2.0. Average score (3.3333333333333335)\n",
      "Win/lose count 6.5/1.0. Average score (3.875)\n",
      "Win/lose count 6.0/2.0. Average score (3.9)\n",
      "Win/lose count 8.0/3.0. Average score (4.083333333333333)\n",
      "Win/lose count 7.5/3.0. Average score (4.142857142857143)\n",
      "Win/lose count 4.5/0. Average score (4.1875)\n",
      "Win/lose count 7.5/3.0. Average score (4.222222222222222)\n",
      "Win/lose count 5.5/2.0. Average score (4.15)\n",
      "Win/lose count 14.0/0. Average score (5.045454545454546)\n",
      "Win/lose count 5.0/1.0. Average score (4.958333333333333)\n",
      "Win/lose count 11.0/3.0. Average score (5.1923076923076925)\n",
      "Win/lose count 2.5/1.0. Average score (4.928571428571429)\n",
      "Win/lose count 3.0/2.0. Average score (4.666666666666667)\n",
      "Win/lose count 4.5/1.0. Average score (4.59375)\n",
      "Win/lose count 8.5/2.0. Average score (4.705882352941177)\n",
      "Win/lose count 7.5/2.0. Average score (4.75)\n",
      "Win/lose count 7.5/2.0. Average score (4.7894736842105265)\n",
      "Win/lose count 6.5/1.0. Average score (4.825)\n",
      "Final score: 4.825\n",
      "Test of the FC\n",
      "Win/lose count 2.0/1.0. Average score (1.0)\n",
      "Win/lose count 3.0/0. Average score (2.0)\n",
      "Win/lose count 5.5/8.0. Average score (0.5)\n",
      "Win/lose count 2.5/3.0. Average score (0.25)\n",
      "Win/lose count 0/1.0. Average score (0.0)\n",
      "Win/lose count 2.0/3.0. Average score (-0.16666666666666666)\n",
      "Win/lose count 5.0/4.0. Average score (0.0)\n",
      "Win/lose count 2.5/1.0. Average score (0.1875)\n",
      "Win/lose count 3.5/3.0. Average score (0.2222222222222222)\n",
      "Win/lose count 5.0/7.0. Average score (0.0)\n",
      "Win/lose count 1.5/1.0. Average score (0.045454545454545456)\n",
      "Win/lose count 3.5/4.0. Average score (0.0)\n",
      "Win/lose count 3.5/3.0. Average score (0.038461538461538464)\n",
      "Win/lose count 2.5/1.0. Average score (0.14285714285714285)\n",
      "Win/lose count 2.5/2.0. Average score (0.16666666666666666)\n",
      "Win/lose count 4.5/7.0. Average score (0.0)\n",
      "Win/lose count 5.0/2.0. Average score (0.17647058823529413)\n",
      "Win/lose count 1.5/0. Average score (0.25)\n",
      "Win/lose count 2.5/6.0. Average score (0.05263157894736842)\n",
      "Win/lose count 5.0/6.0. Average score (0.0)\n",
      "Final score: 0.0\n",
      "Temperature =  0.9\n",
      "Test of the CNN\n",
      "Win/lose count 7.5/2.0. Average score (5.5)\n",
      "Win/lose count 15.0/3.0. Average score (8.75)\n",
      "Win/lose count 11.0/3.0. Average score (8.5)\n",
      "Win/lose count 11.5/2.0. Average score (8.75)\n",
      "Win/lose count 7.0/2.0. Average score (8.0)\n",
      "Win/lose count 4.5/0. Average score (7.416666666666667)\n",
      "Win/lose count 4.5/1.0. Average score (6.857142857142857)\n",
      "Win/lose count 3.0/5.0. Average score (5.75)\n",
      "Win/lose count 3.0/0. Average score (5.444444444444445)\n",
      "Win/lose count 10.0/3.0. Average score (5.6)\n",
      "Win/lose count 7.5/1.0. Average score (5.681818181818182)\n",
      "Win/lose count 11.5/1.0. Average score (6.083333333333333)\n",
      "Win/lose count 5.0/2.0. Average score (5.846153846153846)\n",
      "Win/lose count 6.0/1.0. Average score (5.785714285714286)\n",
      "Win/lose count 8.5/2.0. Average score (5.833333333333333)\n",
      "Win/lose count 5.0/3.0. Average score (5.59375)\n",
      "Win/lose count 1.5/2.0. Average score (5.235294117647059)\n",
      "Win/lose count 10.5/4.0. Average score (5.305555555555555)\n",
      "Win/lose count 1.0/1.0. Average score (5.026315789473684)\n",
      "Win/lose count 5.0/1.0. Average score (4.975)\n",
      "Final score: 4.975\n",
      "Test of the FC\n",
      "Win/lose count 2.0/7.0. Average score (-5.0)\n",
      "Win/lose count 2.5/6.0. Average score (-4.25)\n",
      "Win/lose count 3.0/8.0. Average score (-4.5)\n",
      "Win/lose count 3.0/4.0. Average score (-3.625)\n",
      "Win/lose count 2.0/5.0. Average score (-3.5)\n",
      "Win/lose count 3.5/3.0. Average score (-2.8333333333333335)\n",
      "Win/lose count 3.0/2.0. Average score (-2.2857142857142856)\n",
      "Win/lose count 1.5/4.0. Average score (-2.3125)\n",
      "Win/lose count 2.5/4.0. Average score (-2.2222222222222223)\n",
      "Win/lose count 0.5/4.0. Average score (-2.35)\n",
      "Win/lose count 2.0/1.0. Average score (-2.0454545454545454)\n",
      "Win/lose count 0.5/2.0. Average score (-2.0)\n",
      "Win/lose count 2.0/5.0. Average score (-2.076923076923077)\n",
      "Win/lose count 3.0/3.0. Average score (-1.9285714285714286)\n",
      "Win/lose count 2.0/3.0. Average score (-1.8666666666666667)\n",
      "Win/lose count 2.5/3.0. Average score (-1.78125)\n",
      "Win/lose count 1.0/6.0. Average score (-1.9705882352941178)\n",
      "Win/lose count 5.0/6.0. Average score (-1.9166666666666667)\n",
      "Win/lose count 3.0/5.0. Average score (-1.9210526315789473)\n",
      "Win/lose count 4.5/5.0. Average score (-1.85)\n",
      "Final score: -1.85\n"
     ]
    }
   ],
   "source": [
    "for temperature in temperature_li:\n",
    "    print('Temperature = ', temperature)\n",
    "    env = Environment(grid_size=size, max_time=T,temperature=0.3)\n",
    "    agent_cnn = DQN_CNN(size, lr=.1, epsilon = 0.1, memory_size=2000, batch_size = 32)\n",
    "    agent_cnn.load(name_weights='cnn_trainmodel.h5',name_model='cnn_trainmodel.json')\n",
    "\n",
    "    agent_fc = DQN_FC(size, lr=.1, epsilon = 0.1, memory_size=2000, batch_size = 32)\n",
    "    agent_cnn.load(name_weights='fc_trainmodel.h5',name_model='fc_trainmodel.json')\n",
    "    print('Test of the CNN')\n",
    "    test(agent_cnn,env,epochs_test,prefix='cnn_test')\n",
    "    print('Test of the FC')\n",
    "    test(agent_fc,env,epochs_test,prefix='fc_test')"
   ]
  },
  {
   "cell_type": "code",
   "execution_count": 0,
   "metadata": {
    "colab": {},
    "colab_type": "code",
    "id": "713SWseb3jcH"
   },
   "outputs": [],
   "source": [
    "#HTML(display_videos('cnn_test10.mp4'))"
   ]
  },
  {
   "cell_type": "code",
   "execution_count": 0,
   "metadata": {
    "colab": {},
    "colab_type": "code",
    "id": "qmcanFAR3jcR"
   },
   "outputs": [],
   "source": [
    "#HTML(display_videos('fc_test10.mp4'))"
   ]
  },
  {
   "cell_type": "markdown",
   "metadata": {
    "colab_type": "text",
    "id": "9xjKdrDB3jcW"
   },
   "source": []
  },
  {
   "cell_type": "markdown",
   "metadata": {
    "colab_type": "text",
    "id": "TxBGUKl-3jcY"
   },
   "source": [
    "***\n",
    "\n",
    "The algorithm tends to not explore the map which can be an issue. We propose two ideas in order to encourage exploration:\n",
    "1. Incorporating a decreasing $\\epsilon$-greedy exploration. You can use the method ```set_epsilon```\n",
    "2. Append via the environment a new state that describes if a cell has been visited or not\n",
    "\n",
    "***\n",
    "__Question 10__ Design a new ```train_explore``` function and environment class ```EnvironmentExploring``` to tackle the issue of exploration.\n",
    "\n"
   ]
  },
  {
   "cell_type": "code",
   "execution_count": 0,
   "metadata": {
    "colab": {},
    "colab_type": "code",
    "id": "DDa4gtAz3jcZ"
   },
   "outputs": [],
   "source": [
    "def train_explore(agent, env, epoch, decay_factor=0.8, prefix=''):\n",
    "    #Using decreasing epsilon greedy exploration to tackle the excessive exploration\n",
    "    \n",
    "    # Number of won games\n",
    "    score = 0\n",
    "    loss = 0\n",
    "\n",
    "    for e in range(epoch):\n",
    "        # At each epoch, we restart to a fresh game and get the initial state\n",
    "        state = env.reset()\n",
    "        # This assumes that the games will terminate\n",
    "        game_over = False\n",
    "\n",
    "        win = 0\n",
    "        lose = 0\n",
    "        \n",
    "        #Decay for decreasing epsilon\n",
    "        new_epsilon = agent.epsilon * decay_factor\n",
    "        agent.set_epsilon(new_epsilon)\n",
    "\n",
    "        while not game_over:\n",
    "            # The agent performs an action\n",
    "            action = agent.act(state)\n",
    "\n",
    "            # Apply an action to the environment, get the next state, the reward\n",
    "            # and if the games end\n",
    "            prev_state = state\n",
    "            state, reward, game_over = env.act(action, train=True)\n",
    "\n",
    "            # Update the counters\n",
    "            if reward > 0:\n",
    "                win = win + reward\n",
    "            if reward < 0:\n",
    "                lose = lose -reward\n",
    "\n",
    "            # Apply the reinforcement strategy\n",
    "            loss = agent.reinforce(prev_state, state,  action, reward, game_over)\n",
    "\n",
    "        # Save as a mp4\n",
    "        if e % 10 == 0:\n",
    "            env.draw(prefix+str(e))\n",
    "\n",
    "        # Update stats\n",
    "        score += win-lose\n",
    "\n",
    "        print(\"Epoch {:03d}/{:03d} | Loss {:.4f} | Win/lose count {}/{} ({})\"\n",
    "              .format(e, epoch, loss, win, lose, win-lose))\n",
    "        agent.save(name_weights=prefix+'model.h5',name_model=prefix+'model.json')\n",
    "        \n",
    "class EnvironmentExploring(object):\n",
    "    def __init__(self, grid_size=10, max_time=500, temperature=0.1):\n",
    "        grid_size = grid_size+4\n",
    "        self.grid_size = grid_size\n",
    "        self.max_time = max_time\n",
    "        self.temperature = temperature\n",
    "\n",
    "        #board on which one plays\n",
    "        self.board = np.zeros((grid_size,grid_size))\n",
    "        self.position = np.zeros((grid_size,grid_size))\n",
    "\n",
    "        ###########################################\n",
    "        #Will help us penalized the visited state to decrease exploration\n",
    "        self.malus_position = np.zeros((grid_size, grid_size))\n",
    "        ###########################################\n",
    "\n",
    "        # coordinate of the cat\n",
    "        self.x = 0\n",
    "        self.y = 1\n",
    "\n",
    "        # self time\n",
    "        self.t = 0\n",
    "\n",
    "        self.scale=16\n",
    "\n",
    "        self.to_draw = np.zeros((max_time+2, grid_size*self.scale, grid_size*self.scale, 3))\n",
    "\n",
    "\n",
    "    def draw(self,e):\n",
    "        skvideo.io.vwrite(str(e) + '.mp4', self.to_draw)\n",
    "\n",
    "    def get_frame(self,t):\n",
    "        b = np.zeros((self.grid_size,self.grid_size,3))+128\n",
    "        b[self.board>0,0] = 256\n",
    "        b[self.board < 0, 2] = 256\n",
    "        b[self.x,self.y,:]=256\n",
    "        b[-2:,:,:]=0\n",
    "        b[:,-2:,:]=0\n",
    "        b[:2,:,:]=0\n",
    "        b[:,:2,:]=0\n",
    "        \n",
    "        b =  cv2.resize(b, None, fx=self.scale, fy=self.scale, interpolation=cv2.INTER_NEAREST)\n",
    "\n",
    "        self.to_draw[t,:,:,:]=b\n",
    "\n",
    "\n",
    "    def act(self, action, train=False):\n",
    "        \"\"\"This function returns the new state, reward and decides if the\n",
    "        game ends.\"\"\"\n",
    "\n",
    "        self.get_frame(int(self.t))\n",
    "\n",
    "        self.position = np.zeros((self.grid_size, self.grid_size))\n",
    "\n",
    "        self.position[0:2,:]= -1\n",
    "        self.position[:,0:2] = -1\n",
    "        self.position[-2:, :] = -1\n",
    "        self.position[-2:, :] = -1 #Deux dernieres colonnes non?\n",
    "\n",
    "        self.position[self.x, self.y] = 1 #The cell is visited\n",
    "        #Actions: up, down, left, right\n",
    "        if action == 0:\n",
    "            if self.x == self.grid_size-3:\n",
    "                self.x = self.x-1 #if can't, go left\n",
    "            else:\n",
    "                self.x = self.x + 1 #go right\n",
    "        elif action == 1: \n",
    "            if self.x == 2:\n",
    "                self.x = self.x+1 #if can't, go right\n",
    "            else:\n",
    "                self.x = self.x-1 #go left\n",
    "        elif action == 2:\n",
    "            if self.y == self.grid_size - 3:\n",
    "                self.y = self.y - 1 #if can't, go up\n",
    "            else:\n",
    "                self.y = self.y + 1 #go down\n",
    "        elif action == 3:\n",
    "            if self.y == 2:\n",
    "                self.y = self.y + 1 #if can't go down\n",
    "            else:\n",
    "                self.y = self.y - 1 #go up\n",
    "        else:\n",
    "            RuntimeError('Error: action not recognized')\n",
    "\n",
    "        self.t = self.t + 1\n",
    "        \n",
    "        reward = 0\n",
    "        \n",
    "        #############################################\n",
    "        #We want to penalize the agent when there is an exploration\n",
    "        if train:\n",
    "            reward = -self.malus_position[self.x, self.y] #Lowing reward if the sate has been visited as a penality\n",
    "        #Declare the state visited\n",
    "        self.malus_position[self.x, self.y] = 0.2\n",
    "        #############################################\n",
    "\n",
    "        #Regular reward\n",
    "        reward += self.board[self.x, self.y] #board contains the values and the location of cheese and poison\n",
    "        self.board[self.x, self.y] = 0 #Already visited, cheese or poisen eaten\n",
    "        game_over = self.t > self.max_time\n",
    "\n",
    "        #Add a feature for the state\n",
    "        state = np.concatenate((self.malus_position.reshape(self.grid_size, self.grid_size,1), self.board.reshape(self.grid_size, self.grid_size,1),\n",
    "                        self.position.reshape(self.grid_size, self.grid_size,1)),axis=2)\n",
    "        state = state[self.x-2:self.x+3,self.y-2:self.y+3,:] \n",
    "\n",
    "        return state, reward, game_over\n",
    "\n",
    "    def reset(self):\n",
    "        \"\"\"This function resets the game and returns the initial state\"\"\"\n",
    "\n",
    "        self.x = np.random.randint(3, self.grid_size-3, size=1)[0]\n",
    "        self.y = np.random.randint(3, self.grid_size-3, size=1)[0]\n",
    "\n",
    "\n",
    "        bonus = 0.5*np.random.binomial(1,self.temperature,size=self.grid_size**2)\n",
    "        bonus = bonus.reshape(self.grid_size,self.grid_size)\n",
    "\n",
    "        malus = -1.0*np.random.binomial(1,self.temperature,size=self.grid_size**2)\n",
    "        malus = malus.reshape(self.grid_size, self.grid_size)\n",
    "\n",
    "        self.to_draw = np.zeros((self.max_time+2, self.grid_size*self.scale, self.grid_size*self.scale, 3))\n",
    "\n",
    "\n",
    "        malus[bonus>0]=0\n",
    "\n",
    "        self.board = bonus + malus\n",
    "\n",
    "        self.position = np.zeros((self.grid_size, self.grid_size))\n",
    "        self.position[0:2,:]= -1\n",
    "        self.position[:,0:2] = -1\n",
    "        self.position[-2:, :] = -1\n",
    "        self.position[-2:, :] = -1\n",
    "        self.board[self.x,self.y] = 0\n",
    "        self.t = 0\n",
    "\n",
    "        #We add a pseudo state to know if it was visited, add a feature for the state\n",
    "        state = np.concatenate((self.malus_position.reshape(self.grid_size, self.grid_size,1),\n",
    "                               self.board.reshape(self.grid_size, self.grid_size,1),\n",
    "                        self.position.reshape(self.grid_size, self.grid_size,1)),axis=2)\n",
    "\n",
    "        state = state[self.x - 2:self.x + 3, self.y - 2:self.y + 3, :]\n",
    "        return state\n",
    "\n",
    "\n",
    "\n",
    "\n"
   ]
  },
  {
   "cell_type": "code",
   "execution_count": 23,
   "metadata": {
    "colab": {
     "base_uri": "https://localhost:8080/",
     "height": 750
    },
    "colab_type": "code",
    "executionInfo": {
     "elapsed": 465550,
     "status": "ok",
     "timestamp": 1583090229625,
     "user": {
      "displayName": "Ines M",
      "photoUrl": "https://lh3.googleusercontent.com/a-/AOh14GjSaQ3IxuymC3myRFtDUDc_SYgrvYolwsTZ7n5z=s64",
      "userId": "15452657327672251894"
     },
     "user_tz": -60
    },
    "id": "8Qkw-3bU3jcc",
    "outputId": "6bb4223e-1689-4eb8-8295-770d52cdfc9d"
   },
   "outputs": [
    {
     "name": "stdout",
     "output_type": "stream",
     "text": [
      "Epoch 000/040 | Loss 0.4820 | Win/lose count 13.0/42.20000000000007 (-29.200000000000067)\n",
      "Epoch 001/040 | Loss 1.3350 | Win/lose count 5.3/38.80000000000002 (-33.50000000000002)\n",
      "Epoch 002/040 | Loss 1.3209 | Win/lose count 9.8/30.799999999999926 (-20.999999999999925)\n",
      "Epoch 003/040 | Loss 1.4044 | Win/lose count 5.199999999999998/38.60000000000001 (-33.40000000000001)\n",
      "Epoch 004/040 | Loss 1.4268 | Win/lose count 11.400000000000006/32.99999999999993 (-21.599999999999923)\n",
      "Epoch 005/040 | Loss 1.4474 | Win/lose count 9.1/37.199999999999996 (-28.099999999999994)\n",
      "Epoch 006/040 | Loss 1.4050 | Win/lose count 8.599999999999998/37.59999999999998 (-28.999999999999982)\n",
      "Epoch 007/040 | Loss 1.5265 | Win/lose count 6.6999999999999975/35.99999999999997 (-29.299999999999976)\n",
      "Epoch 008/040 | Loss 1.6002 | Win/lose count 3.1999999999999997/38.80000000000002 (-35.600000000000016)\n",
      "Epoch 009/040 | Loss 1.6746 | Win/lose count 5.399999999999999/38.20000000000001 (-32.80000000000001)\n",
      "Epoch 010/040 | Loss 1.7376 | Win/lose count 9.8/35.59999999999997 (-25.799999999999972)\n",
      "Epoch 011/040 | Loss 1.6789 | Win/lose count 5.099999999999999/38.80000000000001 (-33.70000000000001)\n",
      "Epoch 012/040 | Loss 1.7007 | Win/lose count 7.799999999999997/36.99999999999997 (-29.199999999999974)\n",
      "Epoch 013/040 | Loss 1.6621 | Win/lose count 14.400000000000013/37.199999999999996 (-22.799999999999983)\n",
      "Epoch 014/040 | Loss 1.7800 | Win/lose count 2.9999999999999996/40.20000000000004 (-37.20000000000004)\n",
      "Epoch 015/040 | Loss 1.6699 | Win/lose count 9.3/39.00000000000003 (-29.700000000000028)\n",
      "Epoch 016/040 | Loss 1.7155 | Win/lose count 11.400000000000006/35.59999999999997 (-24.199999999999967)\n",
      "Epoch 017/040 | Loss 1.7622 | Win/lose count 15.000000000000014/32.199999999999925 (-17.19999999999991)\n",
      "Epoch 018/040 | Loss 1.7147 | Win/lose count 9.0/37.199999999999996 (-28.199999999999996)\n",
      "Epoch 019/040 | Loss 1.6441 | Win/lose count 12.300000000000008/35.999999999999964 (-23.699999999999957)\n",
      "Epoch 020/040 | Loss 1.7507 | Win/lose count 7.799999999999997/39.00000000000002 (-31.200000000000024)\n",
      "Epoch 021/040 | Loss 1.7611 | Win/lose count 8.399999999999999/37.6 (-29.200000000000003)\n",
      "Epoch 022/040 | Loss 1.7689 | Win/lose count 14.100000000000012/35.799999999999976 (-21.699999999999964)\n",
      "Epoch 023/040 | Loss 1.7021 | Win/lose count 12.90000000000001/38.60000000000003 (-25.70000000000002)\n",
      "Epoch 024/040 | Loss 1.6842 | Win/lose count 10.800000000000004/36.99999999999999 (-26.19999999999999)\n",
      "Epoch 025/040 | Loss 1.7666 | Win/lose count 16.500000000000018/37.19999999999999 (-20.69999999999997)\n",
      "Epoch 026/040 | Loss 1.8016 | Win/lose count 5.999999999999998/39.20000000000002 (-33.20000000000002)\n",
      "Epoch 027/040 | Loss 1.7718 | Win/lose count 10.800000000000004/41.00000000000004 (-30.20000000000004)\n",
      "Epoch 028/040 | Loss 1.7506 | Win/lose count 8.399999999999999/36.59999999999997 (-28.199999999999974)\n",
      "Epoch 029/040 | Loss 1.7868 | Win/lose count 7.1999999999999975/36.39999999999998 (-29.19999999999998)\n",
      "Epoch 030/040 | Loss 1.7119 | Win/lose count 12.000000000000007/37.2 (-25.199999999999996)\n",
      "Epoch 031/040 | Loss 1.7800 | Win/lose count 15.600000000000016/30.799999999999926 (-15.19999999999991)\n",
      "Epoch 032/040 | Loss 1.6548 | Win/lose count 15.000000000000014/38.20000000000001 (-23.199999999999996)\n",
      "Epoch 033/040 | Loss 1.6806 | Win/lose count 14.400000000000013/34.59999999999996 (-20.199999999999946)\n",
      "Epoch 034/040 | Loss 1.7411 | Win/lose count 13.50000000000001/37.199999999999996 (-23.699999999999985)\n",
      "Epoch 035/040 | Loss 1.6244 | Win/lose count 13.50000000000001/33.19999999999994 (-19.69999999999993)\n",
      "Epoch 036/040 | Loss 1.5657 | Win/lose count 12.90000000000001/38.6 (-25.699999999999992)\n",
      "Epoch 037/040 | Loss 1.5364 | Win/lose count 15.300000000000015/34.99999999999997 (-19.699999999999957)\n",
      "Epoch 038/040 | Loss 1.4382 | Win/lose count 12.600000000000009/42.800000000000075 (-30.200000000000067)\n",
      "Epoch 039/040 | Loss 1.5216 | Win/lose count 11.400000000000006/41.600000000000065 (-30.20000000000006)\n"
     ]
    }
   ],
   "source": [
    "# Training\n",
    "env = EnvironmentExploring(grid_size=size, max_time=T, temperature=0.3)\n",
    "agent = DQN_CNN(size, lr=.1, epsilon = 0.1, memory_size=2000, batch_size = 32,n_state=3)\n",
    "train_explore(agent, env, epochs_train, prefix='cnn_train_explore')\n",
    "#HTML(display_videos('cnn_train_explore10.mp4'))"
   ]
  },
  {
   "cell_type": "code",
   "execution_count": 24,
   "metadata": {
    "colab": {
     "base_uri": "https://localhost:8080/",
     "height": 402
    },
    "colab_type": "code",
    "executionInfo": {
     "elapsed": 486247,
     "status": "ok",
     "timestamp": 1583090250333,
     "user": {
      "displayName": "Ines M",
      "photoUrl": "https://lh3.googleusercontent.com/a-/AOh14GjSaQ3IxuymC3myRFtDUDc_SYgrvYolwsTZ7n5z=s64",
      "userId": "15452657327672251894"
     },
     "user_tz": -60
    },
    "id": "1gNbv0Yw3jcg",
    "outputId": "73eaf2bc-36a5-4087-9a54-dcc063badd5f"
   },
   "outputs": [
    {
     "name": "stdout",
     "output_type": "stream",
     "text": [
      "Win/lose count 5.0/2.0. Average score (3.0)\n",
      "Win/lose count 1.0/0. Average score (2.0)\n",
      "Win/lose count 18.0/6.0. Average score (5.333333333333333)\n",
      "Win/lose count 3.5/0. Average score (4.875)\n",
      "Win/lose count 1.0/0. Average score (4.1)\n",
      "Win/lose count 2.5/2.0. Average score (3.5)\n",
      "Win/lose count 6.0/2.0. Average score (3.5714285714285716)\n",
      "Win/lose count 8.0/2.0. Average score (3.875)\n",
      "Win/lose count 1.0/0. Average score (3.5555555555555554)\n",
      "Win/lose count 9.0/0. Average score (4.1)\n",
      "Win/lose count 14.5/5.0. Average score (4.590909090909091)\n",
      "Win/lose count 3.0/0. Average score (4.458333333333333)\n",
      "Win/lose count 2.0/2.0. Average score (4.115384615384615)\n",
      "Win/lose count 9.0/3.0. Average score (4.25)\n",
      "Win/lose count 8.5/3.0. Average score (4.333333333333333)\n",
      "Win/lose count 4.0/3.0. Average score (4.125)\n",
      "Win/lose count 6.0/0. Average score (4.235294117647059)\n",
      "Win/lose count 21.5/6.0. Average score (4.861111111111111)\n",
      "Win/lose count 14.0/2.0. Average score (5.2368421052631575)\n",
      "Win/lose count 1.5/0. Average score (5.05)\n",
      "Final score: 5.05\n"
     ]
    }
   ],
   "source": [
    "# Evaluation\n",
    "test(agent,env,epochs_test,prefix='cnn_test_explore')\n",
    "#HTML(display_videos('cnn_test_explore10.mp4'))"
   ]
  },
  {
   "cell_type": "markdown",
   "metadata": {
    "colab_type": "text",
    "id": "u92800hL3jcj"
   },
   "source": [
    "***\n",
    "***\n",
    "__BONUS question__ Use the expert DQN from the previous question to generate some winning games. Train a model that mimicks its behavior. Compare the performances."
   ]
  },
  {
   "cell_type": "markdown",
   "metadata": {
    "colab_type": "text",
    "id": "gC9jBGjG3jcj"
   },
   "source": []
  },
  {
   "cell_type": "code",
   "execution_count": 0,
   "metadata": {
    "colab": {},
    "colab_type": "code",
    "id": "X2bJOJTIS-Jp"
   },
   "outputs": [],
   "source": [
    "class DQN_winning(Agent):\n",
    "    def __init__(self, grid_size,  epsilon = 0.1, memory_size=100, batch_size = 16,n_state=2):\n",
    "        super(DQN_winning, self).__init__(epsilon = epsilon)\n",
    "\n",
    "        # Discount for Q learning\n",
    "        self.discount = 0.99\n",
    "        \n",
    "        self.grid_size = grid_size\n",
    "        \n",
    "        # number of state\n",
    "        self.n_state = n_state\n",
    "\n",
    "        # Memory\n",
    "        self.memory = Memory(memory_size)\n",
    "        \n",
    "        # Batch size when learning\n",
    "        self.batch_size = batch_size\n",
    "\n",
    "    def learned_act(self, s):\n",
    "        #reshape state\n",
    "        state_re = state.reshape([1, state.shape[0], state.shape[1], state.shape[2]])\n",
    "        #Action maximizing the predicted target\n",
    "        return np.argmax(self.model.predict(state_re)[0, :])\n",
    "\n",
    "    def reinforce(self, s_, n_s_, a_, r_, game_over_):\n",
    "        # Two steps: first memorize the states, second learn from the pool\n",
    "\n",
    "        self.memory.remember([s_, n_s_, a_, r_, game_over_])\n",
    "        \n",
    "        input_states = np.zeros((self.batch_size, 5,5,self.n_state))\n",
    "        target_q = np.zeros((self.batch_size, 4))\n",
    "        \n",
    "        for i in range(self.batch_size):\n",
    "            state, n_state, action, reward, game_over = self.memory.random_access()\n",
    "            #Copy the expert!\n",
    "            input_states[i] = state\n",
    "            #target_q are supposed to be maximum because we are copying the agent, but no good values found\n",
    "            target_q[i, action] = 10\n",
    "\n",
    "        l = self.model.train_on_batch(input_states, target_q)\n",
    "\n",
    "\n",
    "        return l\n",
    "\n",
    "    def save(self,name_weights='model.h5',name_model='model.json'):\n",
    "        self.model.save_weights(name_weights, overwrite=True)\n",
    "        with open(name_model, \"w\") as outfile:\n",
    "            json.dump(self.model.to_json(), outfile)\n",
    "            \n",
    "    def load(self,name_weights='model.h5',name_model='model.json'):\n",
    "        with open(name_model, \"r\") as jfile:\n",
    "            model = model_from_json(json.load(jfile))\n",
    "        model.load_weights(name_weights)\n",
    "        model.compile(\"sgd\", \"mse\")\n",
    "        self.model = model\n",
    "\n",
    "            \n",
    "class DQN_CNN_winning(DQN_winning):\n",
    "    def __init__(self, *args, lr=0.1,**kwargs):\n",
    "        super(DQN_CNN_winning, self).__init__( *args,**kwargs)\n",
    "        \n",
    "        # NN Model\n",
    "        \n",
    "        model = Sequential()\n",
    "        model.add(Conv2D(30, (2, 2), input_shape=(5, 5, self.n_state,), activation='relu'))\n",
    "        model.add(Conv2D(30, (2, 2), activation='relu'))\n",
    "        model.add(Flatten())\n",
    "        model.add(Dense(4))\n",
    "        \n",
    "        model.compile(sgd(lr=lr, decay=1e-4, momentum=0.0), \"mse\")\n",
    "        self.model = model\n",
    "        "
   ]
  },
  {
   "cell_type": "code",
   "execution_count": 0,
   "metadata": {
    "colab": {},
    "colab_type": "code",
    "id": "Tyht5rW1ZICd"
   },
   "outputs": [],
   "source": [
    "def train_winning(expert, agent, env, epoch, prefix=''):\n",
    "    # Number of won games\n",
    "    score = 0\n",
    "    loss = 0\n",
    "\n",
    "    for e in range(epoch):\n",
    "        # At each epoch, we restart to a fresh game and get the initial state\n",
    "        state = env.reset()\n",
    "        # This assumes that the games will terminate\n",
    "        game_over = False\n",
    "\n",
    "        win = 0\n",
    "        lose = 0\n",
    "\n",
    "        while not game_over:\n",
    "            # The expert performs an action\n",
    "            action = expert.act(state)\n",
    "\n",
    "            # Apply an action to the environment, get the next state, the reward\n",
    "            # and if the games end\n",
    "            prev_state = state\n",
    "            state, reward, game_over = env.act(action)\n",
    "\n",
    "            # Update the counters\n",
    "            if reward > 0:\n",
    "                win = win + reward\n",
    "            if reward < 0:\n",
    "                lose = lose -reward\n",
    "\n",
    "            # Apply the reinforcement strategy for the agent( copying the expert)\n",
    "            loss = agent.reinforce(prev_state, state,  action, reward, game_over)\n",
    "\n",
    "        # Save as a mp4\n",
    "        if e % 10 == 0:\n",
    "            env.draw(prefix+str(e))\n",
    "\n",
    "        # Update stats\n",
    "        score += win-lose\n",
    "\n",
    "        print(\"Epoch {:03d}/{:03d} | Loss {:.4f} | Win/lose count {}/{} ({})\"\n",
    "              .format(e, epoch, loss, win, lose, win-lose))\n",
    "        agent.save(name_weights=prefix+'model.h5',name_model=prefix+'model.json')"
   ]
  },
  {
   "cell_type": "code",
   "execution_count": 38,
   "metadata": {
    "colab": {
     "base_uri": "https://localhost:8080/",
     "height": 750
    },
    "colab_type": "code",
    "executionInfo": {
     "elapsed": 56805,
     "status": "ok",
     "timestamp": 1583091156618,
     "user": {
      "displayName": "Ines M",
      "photoUrl": "https://lh3.googleusercontent.com/a-/AOh14GjSaQ3IxuymC3myRFtDUDc_SYgrvYolwsTZ7n5z=s64",
      "userId": "15452657327672251894"
     },
     "user_tz": -60
    },
    "id": "vpoyU2a9ZIR0",
    "outputId": "e2cb3d97-7b3c-4b26-de3b-a99fab763325"
   },
   "outputs": [
    {
     "name": "stdout",
     "output_type": "stream",
     "text": [
      "Epoch 000/040 | Loss 13.9710 | Win/lose count 6.5/3.0 (3.5)\n",
      "Epoch 001/040 | Loss 15.3261 | Win/lose count 2.5/1.0 (1.5)\n",
      "Epoch 002/040 | Loss 13.1768 | Win/lose count 7.5/6.0 (1.5)\n",
      "Epoch 003/040 | Loss 13.6041 | Win/lose count 5.0/1.0 (4.0)\n",
      "Epoch 004/040 | Loss 14.6591 | Win/lose count 8.0/0 (8.0)\n",
      "Epoch 005/040 | Loss 14.1360 | Win/lose count 2.5/0 (2.5)\n",
      "Epoch 006/040 | Loss 13.6865 | Win/lose count 13.0/2.0 (11.0)\n",
      "Epoch 007/040 | Loss 16.1571 | Win/lose count 16.5/0 (16.5)\n",
      "Epoch 008/040 | Loss 13.6433 | Win/lose count 7.0/1.0 (6.0)\n",
      "Epoch 009/040 | Loss 13.0540 | Win/lose count 4.0/1.0 (3.0)\n",
      "Epoch 010/040 | Loss 14.1684 | Win/lose count 1.5/0 (1.5)\n",
      "Epoch 011/040 | Loss 14.6622 | Win/lose count 13.5/7.0 (6.5)\n",
      "Epoch 012/040 | Loss 14.8797 | Win/lose count 5.5/0 (5.5)\n",
      "Epoch 013/040 | Loss 13.4231 | Win/lose count 8.0/0 (8.0)\n",
      "Epoch 014/040 | Loss 12.9807 | Win/lose count 1.0/0 (1.0)\n",
      "Epoch 015/040 | Loss 12.3790 | Win/lose count 11.5/0 (11.5)\n",
      "Epoch 016/040 | Loss 14.0003 | Win/lose count 2.5/1.0 (1.5)\n",
      "Epoch 017/040 | Loss 13.2397 | Win/lose count 4.0/0 (4.0)\n",
      "Epoch 018/040 | Loss 13.0010 | Win/lose count 8.0/2.0 (6.0)\n",
      "Epoch 019/040 | Loss 12.0883 | Win/lose count 3.0/1.0 (2.0)\n",
      "Epoch 020/040 | Loss 13.4411 | Win/lose count 18.5/1.0 (17.5)\n",
      "Epoch 021/040 | Loss 13.1457 | Win/lose count 14.5/3.0 (11.5)\n",
      "Epoch 022/040 | Loss 13.8731 | Win/lose count 6.5/1.0 (5.5)\n",
      "Epoch 023/040 | Loss 13.4915 | Win/lose count 22.0/7.0 (15.0)\n",
      "Epoch 024/040 | Loss 13.4455 | Win/lose count 9.5/1.0 (8.5)\n",
      "Epoch 025/040 | Loss 11.6724 | Win/lose count 8.0/4.0 (4.0)\n",
      "Epoch 026/040 | Loss 12.9959 | Win/lose count 1.5/0 (1.5)\n",
      "Epoch 027/040 | Loss 12.7160 | Win/lose count 9.5/3.0 (6.5)\n",
      "Epoch 028/040 | Loss 13.5143 | Win/lose count 5.0/0 (5.0)\n",
      "Epoch 029/040 | Loss 11.9559 | Win/lose count 15.5/5.0 (10.5)\n",
      "Epoch 030/040 | Loss 14.9216 | Win/lose count 6.5/1.0 (5.5)\n",
      "Epoch 031/040 | Loss 9.7110 | Win/lose count 7.5/0 (7.5)\n",
      "Epoch 032/040 | Loss 11.8671 | Win/lose count 5.5/2.0 (3.5)\n",
      "Epoch 033/040 | Loss 11.7639 | Win/lose count 1.5/0 (1.5)\n",
      "Epoch 034/040 | Loss 13.2499 | Win/lose count 8.5/1.0 (7.5)\n",
      "Epoch 035/040 | Loss 13.7895 | Win/lose count 6.0/2.0 (4.0)\n",
      "Epoch 036/040 | Loss 13.9332 | Win/lose count 13.5/3.0 (10.5)\n",
      "Epoch 037/040 | Loss 11.8227 | Win/lose count 4.0/1.0 (3.0)\n",
      "Epoch 038/040 | Loss 13.2652 | Win/lose count 2.5/0 (2.5)\n",
      "Epoch 039/040 | Loss 12.2812 | Win/lose count 3.0/0 (3.0)\n"
     ]
    }
   ],
   "source": [
    "# Training\n",
    "expert = agent\n",
    "env = EnvironmentExploring(grid_size=size, max_time=T, temperature=0.3)\n",
    "agent_copy = DQN_CNN_winning(size, lr=.1, epsilon = 0.1, memory_size=2000, batch_size = 32,n_state=3)\n",
    "train_winning(expert, agent_copy, env, epochs_train, prefix='cnn_train_explore')\n",
    "#HTML(display_videos('cnn_train_explore10.mp4'))"
   ]
  },
  {
   "cell_type": "markdown",
   "metadata": {
    "colab_type": "text",
    "id": "rQs9o2UWl-Wz"
   },
   "source": [
    "I think this method wasn't really efficient. I just tried to copy the expert but the results are not satisfying."
   ]
  },
  {
   "cell_type": "markdown",
   "metadata": {
    "colab_type": "text",
    "id": "dfWiBgNj3jck"
   },
   "source": [
    "***"
   ]
  }
 ],
 "metadata": {
  "colab": {
   "collapsed_sections": [],
   "name": "DQN_project_MVA.ipynb",
   "provenance": []
  },
  "kernelspec": {
   "display_name": "Python 3",
   "language": "python",
   "name": "python3"
  },
  "language_info": {
   "codemirror_mode": {
    "name": "ipython",
    "version": 3
   },
   "file_extension": ".py",
   "mimetype": "text/x-python",
   "name": "python",
   "nbconvert_exporter": "python",
   "pygments_lexer": "ipython3",
   "version": "3.7.4"
  }
 },
 "nbformat": 4,
 "nbformat_minor": 1
}
